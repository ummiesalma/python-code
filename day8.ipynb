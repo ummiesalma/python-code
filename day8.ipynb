{
 "cells": [
  {
   "cell_type": "code",
   "execution_count": 8,
   "id": "60c59de5-a620-4efd-9464-cd6c527fe107",
   "metadata": {},
   "outputs": [
    {
     "name": "stdout",
     "output_type": "stream",
     "text": [
      "[12, 32, 34, 45, 45, 56, 56, 66, 67, 76, 89, 98]\n"
     ]
    },
    {
     "name": "stdin",
     "output_type": "stream",
     "text": [
      " 98\n"
     ]
    },
    {
     "name": "stdout",
     "output_type": "stream",
     "text": [
      "index of element is 11\n",
      "low 0 high 12 mid 6\n",
      "low 7 high 12 mid 9\n",
      "low 10 high 12 mid 11\n",
      "element found at 11\n"
     ]
    }
   ],
   "source": [
    "#binary search\n",
    "L=[56,32,45,12,34,76,45,67,89,98,66,56]\n",
    "L.sort()\n",
    "print(L)\n",
    "low =0\n",
    "high = len(L)\n",
    "src=int(input())\n",
    "try:\n",
    "    print(\"index of element is\",L.index(src))\n",
    "except:\n",
    "    print(\"item not in list\")\n",
    "Flag=0\n",
    "while low<high:\n",
    "    mid=int((low+(high-low)/2))\n",
    "    print(\"low\",low,\"high\",high,\"mid\",mid)\n",
    "    if src<L[mid]:\n",
    "        high=mid-1\n",
    "    elif src>L[mid]:\n",
    "        low=mid+1\n",
    "    else:\n",
    "        Flag=1\n",
    "        break;\n",
    "\n",
    "if Flag==1:\n",
    "    print(\"element found at\",mid)\n",
    "else:\n",
    "    print(\"element not found:\")\n",
    "    \n",
    "\n",
    "\n",
    "\n",
    "    \n"
   ]
  },
  {
   "cell_type": "code",
   "execution_count": 29,
   "id": "894f8eee-b14b-4f80-b25e-645e6e991545",
   "metadata": {},
   "outputs": [
    {
     "name": "stdout",
     "output_type": "stream",
     "text": [
      "[{'this is a string'}]\n",
      "is string\n",
      "string is invalid\n"
     ]
    }
   ],
   "source": [
    "#Valid string.\n",
    "a=[{(\"this is a string\")}]\n",
    "print(a)\n",
    "try:\n",
    "    print(\"is string\")\n",
    "except:\n",
    "    print(\"is not string\")\n",
    "if  a==[{(\"this is [a] string\")}]:\n",
    "    print(\"string is valid\")\n",
    "else:\n",
    "    print(\"string is invalid\")\n",
    "    \n",
    "\n"
   ]
  },
  {
   "cell_type": "code",
   "execution_count": 1,
   "id": "20dfdbee-80ee-4f2a-b784-b3f1afcbcb76",
   "metadata": {},
   "outputs": [
    {
     "name": "stdin",
     "output_type": "stream",
     "text": [
      " this is (a) car\n"
     ]
    },
    {
     "name": "stdout",
     "output_type": "stream",
     "text": [
      "valid string\n"
     ]
    }
   ],
   "source": [
    "s=input()\n",
    "x=y=z=0\n",
    "for c in s:\n",
    "    match (c):\n",
    "        case '(':x+=1\n",
    "        case ')':x-=1\n",
    "        case '{':y+=1\n",
    "        case '}':y-=1\n",
    "        case '[':z+=1\n",
    "        case ']':z-=1\n",
    "        case _: continue\n",
    "\n",
    "if x+y+z == 0:\n",
    "    print(\"valid string\")\n",
    "else:\n",
    "    print(\"invalid string\")\n",
    "        \n",
    "            "
   ]
  },
  {
   "cell_type": "code",
   "execution_count": 31,
   "id": "4f665826-3fbd-46be-b819-17166c8755de",
   "metadata": {},
   "outputs": [
    {
     "name": "stdin",
     "output_type": "stream",
     "text": [
      "add new value 23\n"
     ]
    },
    {
     "name": "stdout",
     "output_type": "stream",
     "text": [
      "[1, 3, 5, 6, 2, 8, 23]\n"
     ]
    },
    {
     "name": "stdin",
     "output_type": "stream",
     "text": [
      "remove the element 6\n"
     ]
    },
    {
     "name": "stdout",
     "output_type": "stream",
     "text": [
      "[1, 3, 5, 6, 2, 23]\n"
     ]
    }
   ],
   "source": [
    "stack=[1,3,5,6,2,8]\n",
    "s=int(input(\"add new value\"))\n",
    "stack.append(23)\n",
    "print(stack)\n",
    "\n",
    "\n",
    "s=int(input(\"remove the element\"))\n",
    "stack.remove(8)\n",
    "print(stack)\n",
    "\n",
    "\n"
   ]
  },
  {
   "cell_type": "code",
   "execution_count": 42,
   "id": "625e2980-e3ac-4d76-b2bd-3c63cb3357e1",
   "metadata": {},
   "outputs": [
    {
     "name": "stdout",
     "output_type": "stream",
     "text": [
      "item added to stack\n",
      "item added to stack\n",
      "item added to stack\n",
      "item added to stack\n",
      "item added to stack\n",
      "[2, 3, 5, 4, 9]\n",
      "item removed from stack\n",
      "[2, 5, 4, 9]\n"
     ]
    }
   ],
   "source": [
    "#STACK\n",
    "\n",
    "def add(E):\n",
    "    s.append(E)\n",
    "    print(\"item added to stack\")\n",
    "\n",
    "def delete(E):\n",
    "    s.pop(E)\n",
    "    print(\"item removed from stack\")\n",
    "\n",
    "s=[]\n",
    "add(2)\n",
    "add(3)\n",
    "add(5)\n",
    "add(4)\n",
    "add(9)\n",
    "print(s)\n",
    "delete(1)\n",
    "print(s)"
   ]
  },
  {
   "cell_type": "code",
   "execution_count": null,
   "id": "c5bab2c5-7699-47bf-b44a-7771274b8cc3",
   "metadata": {},
   "outputs": [],
   "source": [
    "#queue\n"
   ]
  }
 ],
 "metadata": {
  "kernelspec": {
   "display_name": "Python 3 (ipykernel)",
   "language": "python",
   "name": "python3"
  },
  "language_info": {
   "codemirror_mode": {
    "name": "ipython",
    "version": 3
   },
   "file_extension": ".py",
   "mimetype": "text/x-python",
   "name": "python",
   "nbconvert_exporter": "python",
   "pygments_lexer": "ipython3",
   "version": "3.12.3"
  }
 },
 "nbformat": 4,
 "nbformat_minor": 5
}

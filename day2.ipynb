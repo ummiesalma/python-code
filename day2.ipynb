{
 "cells": [
  {
   "cell_type": "code",
   "execution_count": 5,
   "id": "5dbf274e-3c0f-4c00-9ccd-0921f9f6f140",
   "metadata": {},
   "outputs": [
    {
     "name": "stdin",
     "output_type": "stream",
     "text": [
      "Enter your name: salma\n",
      "Enter your age:  18\n"
     ]
    },
    {
     "name": "stdout",
     "output_type": "stream",
     "text": [
      "salma\n",
      "you are eligible\n"
     ]
    }
   ],
   "source": [
    "Name = input(\"Enter your name:\")\n",
    "age = int(input(\"Enter your age: \"))\n",
    "if age>=18:\n",
    "    print(Name)\n",
    "    print(\"you are eligible\")\n",
    "else:\n",
    "    print(Name)\n",
    "    print(\"you are not eligible\")\n",
    "    "
   ]
  },
  {
   "cell_type": "code",
   "execution_count": 1,
   "id": "2e28d217-2c09-4c55-a8e2-dbeedf9865c7",
   "metadata": {},
   "outputs": [
    {
     "name": "stdout",
     "output_type": "stream",
     "text": [
      "b is greater than a\n"
     ]
    }
   ],
   "source": [
    "a=10\n",
    "b=24\n",
    "if a>b:\n",
    "    print(\"a is greater than b\")\n",
    "else:\n",
    "    print(\"b is greater than a\")\n",
    "    "
   ]
  },
  {
   "cell_type": "code",
   "execution_count": 7,
   "id": "c0159c70-9acc-42da-b551-cdb5ca4d42b3",
   "metadata": {},
   "outputs": [
    {
     "name": "stdin",
     "output_type": "stream",
     "text": [
      " 20\n",
      " 12\n",
      " 11\n"
     ]
    },
    {
     "name": "stdout",
     "output_type": "stream",
     "text": [
      "a is largest\n"
     ]
    }
   ],
   "source": [
    "a=int(input())\n",
    "b=int(input())\n",
    "c=int(input())\n",
    "\n",
    "if a>b:\n",
    "    if a>c:\n",
    "       print(\"a is largest\")\n",
    "    else:\n",
    "       print(\"c is largest\")\n",
    "else:\n",
    "    if b>c:\n",
    "        print(\"b is largest\")\n",
    "    else:\n",
    "        print(\"c is largest\")\n",
    "        \n",
    "    \n",
    "    \n",
    "    "
   ]
  },
  {
   "cell_type": "code",
   "execution_count": 12,
   "id": "55473b58-da17-43f4-ad46-485b9ba6174f",
   "metadata": {},
   "outputs": [
    {
     "name": "stdin",
     "output_type": "stream",
     "text": [
      "enter your marks 30\n"
     ]
    },
    {
     "name": "stdout",
     "output_type": "stream",
     "text": [
      "grade = E\n"
     ]
    }
   ],
   "source": [
    "#conditiomnal program\n",
    "marks=int(input(\"enter your marks\"))\n",
    "if marks>=90 and marks<=100:\n",
    "    print(\"grade = A+\")\n",
    "else:\n",
    "    if marks>=80 and marks<90:\n",
    "        print(\"grade A\")\n",
    "    else:\n",
    "        if marks>=70 and marks<80:\n",
    "            print(\"grade = B+\")\n",
    "        else:\n",
    "            if marks>=60 and marks<70:\n",
    "                print(\"grade = B\")\n",
    "            else:\n",
    "                if marks>=50 and marks<60:\n",
    "                    print(\"grade =C\")\n",
    "                else:\n",
    "                    if marks>=40 and marks<=50:\n",
    "                     print(\"grade =D\")\n",
    "                    else:\n",
    "                        if marks>=30 and  marks<40:\n",
    "                            print(\"grade = E\")\n",
    "                        else:\n",
    "                            if marks<=0 and marks<30:\n",
    "                                print(\"grade =F\")\n",
    "                            else:\n",
    "                                print(\"Invalid marks\")\n",
    "                                \n",
    "                    \n",
    "                            \n",
    "                    \n",
    "        \n"
   ]
  },
  {
   "cell_type": "code",
   "execution_count": 21,
   "id": "db732283-3253-4f44-a03a-e06ae5aa7fa2",
   "metadata": {},
   "outputs": [
    {
     "name": "stdout",
     "output_type": "stream",
     "text": [
      "0\n",
      "1\n",
      "2\n",
      "3\n",
      "4\n",
      "5\n",
      "6\n",
      "7\n",
      "8\n",
      "9\n",
      "*\n",
      "**\n",
      "***\n",
      "****\n",
      "*****\n",
      "******\n",
      "*******\n",
      "********\n",
      "*********\n",
      "**********\n"
     ]
    }
   ],
   "source": [
    "x=0\n",
    "while x<10:\n",
    "    print(x)\n",
    "    x=x+1\n",
    "\n",
    "for y in range(0,10):\n",
    "    for x in range(0,y+1):\n",
    "        print(\"*\",end=\"\")\n",
    "    print()\n",
    "    "
   ]
  },
  {
   "cell_type": "code",
   "execution_count": 22,
   "id": "5b98f8b1-34aa-4e8f-bf60-e240656ba123",
   "metadata": {},
   "outputs": [
    {
     "name": "stdout",
     "output_type": "stream",
     "text": [
      "0\n",
      "1\n",
      "2\n",
      "3\n",
      "4\n",
      "5\n",
      "6\n",
      "7\n",
      "8\n",
      "9\n"
     ]
    }
   ],
   "source": [
    "#range program\n",
    "\n",
    "x=0\n",
    "while x<10:\n",
    "    print(x)\n",
    "    x=x+1\n",
    "\n",
    "for y in range(0,10):\n",
    "    print(y)\n",
    "    "
   ]
  },
  {
   "cell_type": "code",
   "execution_count": 19,
   "id": "a08ab7f2-b22b-47d9-8b7d-925379deb841",
   "metadata": {},
   "outputs": [
    {
     "name": "stdout",
     "output_type": "stream",
     "text": [
      "*\n",
      "**\n",
      "***\n",
      "****\n",
      "*****\n"
     ]
    }
   ],
   "source": [
    "#pyramid program\n",
    "\n",
    "def half_pyramid(n):\n",
    "    for i in range(1, n+1):\n",
    "        for j in range(1, i+1):\n",
    "            print(\"*\",end=\"\")\n",
    "        print(\"\\r\")\n",
    "n=5\n",
    "half_pyramid(n)\n"
   ]
  },
  {
   "cell_type": "code",
   "execution_count": 11,
   "id": "57cdfffa-0d35-420c-a31b-24ebe49c3196",
   "metadata": {},
   "outputs": [
    {
     "name": "stdin",
     "output_type": "stream",
     "text": [
      "How many terms?  5\n"
     ]
    },
    {
     "name": "stdout",
     "output_type": "stream",
     "text": [
      "Fibonacci sequence:\n",
      "0\n",
      "1\n",
      "1\n",
      "2\n",
      "3\n"
     ]
    }
   ],
   "source": [
    "nterms = int(input(\"How many terms? \"))  \n",
    "n1, n2 = 0, 1\n",
    "if nterms <= 0:\n",
    "    print(\"Please enter a positive integer\")\n",
    "elif nterms == 1:\n",
    "    print(\"Fibonacci sequence up to\", nterms, \":\")\n",
    "    print(n1)\n",
    "else:\n",
    "    print(\"Fibonacci sequence:\")\n",
    "    count = 0\n",
    "    while count < nterms:\n",
    "        print(n1)\n",
    "        nth = n1 + n2  \n",
    "        n1 = n2\n",
    "        n2 = nth\n",
    "        count += 1\n"
   ]
  },
  {
   "cell_type": "code",
   "execution_count": 16,
   "id": "e7a09af8-f9d0-4426-88e5-bb314dae1036",
   "metadata": {},
   "outputs": [
    {
     "name": "stdin",
     "output_type": "stream",
     "text": [
      "enter the limit 10\n"
     ]
    },
    {
     "name": "stdout",
     "output_type": "stream",
     "text": [
      "1"
     ]
    }
   ],
   "source": [
    "a=0\n",
    "b=1\n",
    "n=int(input(\"enter the limit\"))\n",
    "c=a+b\n",
    "print(c,end=\"\")\n",
    "a=b\n",
    "b=c\n",
    "\n"
   ]
  },
  {
   "cell_type": "code",
   "execution_count": 1,
   "id": "8d5b3237-4a9b-415a-8e17-80a6e811239f",
   "metadata": {},
   "outputs": [
    {
     "name": "stdout",
     "output_type": "stream",
     "text": [
      "Yes\n"
     ]
    }
   ],
   "source": [
    "# Python program to check\n",
    "# if a string is palindrome\n",
    "# or not\n",
    "\n",
    "x = \"Salma\"\n",
    "\n",
    "w = \"\"\n",
    "for i in x:\n",
    "\tw = i + w\n",
    "\n",
    "if (x == w):\n",
    "\tprint(\"Yes\")\n",
    "else:\n",
    "\tprint(\"No\")\n"
   ]
  },
  {
   "cell_type": "code",
   "execution_count": 5,
   "id": "57d7eba9-305b-4d47-9853-59ccf7fcdc12",
   "metadata": {},
   "outputs": [
    {
     "name": "stdout",
     "output_type": "stream",
     "text": [
      "Original Number: 6789\n",
      "Reversed Number: 9876\n"
     ]
    }
   ],
   "source": [
    "#write a program to reverse a digits of number\n",
    "\n",
    "\n",
    "def reverse_number(number):\n",
    "\toriginal_number = number\n",
    "\treverse = 0\n",
    "\n",
    "\tfor _ in str(number):\n",
    "\t\tdigit = number % 10\n",
    "\t\treverse = reverse * 10 + digit\n",
    "\t\tnumber //= 10\n",
    "\n",
    "\tprint(f\"Original Number: {original_number}\")\n",
    "\tprint(f\"Reversed Number: {reverse}\")\n",
    "\n",
    "reverse = 6789\n",
    "reverse_number(reverse)\n"
   ]
  },
  {
   "cell_type": "code",
   "execution_count": 15,
   "id": "4e08babd-d53e-4610-b9c2-aff1456c169c",
   "metadata": {},
   "outputs": [
    {
     "name": "stdout",
     "output_type": "stream",
     "text": [
      "8 is not a prime number.\n",
      "2 times 4 is 8\n"
     ]
    }
   ],
   "source": [
    "#prime:- that has no other factors except 1 and the number itself. \n",
    "\n",
    "# Program to check if a number is prime or not\n",
    "inputn = 8\n",
    "\n",
    "#Taking user input\n",
    "#inputn = int(input(\"Enter a number: \"))\n",
    "\n",
    "if inputn > 1:\n",
    "   # check for factors\n",
    "   for i in range(2,inputn):\n",
    "       if (inputn % i) == 0:\n",
    "           print(inputn,\"is not a prime number.\")\n",
    "           print(i,\"times\",inputn//i,\"is\",inputn)\n",
    "           break\n",
    "   else:\n",
    "       print(inputn,\"is a prime number.\")\n",
    "       \n",
    "else:\n",
    "   print(inputn,\"is not a prime number.\")\n",
    "    "
   ]
  },
  {
   "cell_type": "code",
   "execution_count": 16,
   "id": "59f844b7-8d72-444e-ba65-6a325938b5e1",
   "metadata": {},
   "outputs": [
    {
     "name": "stdout",
     "output_type": "stream",
     "text": [
      "The factorial of 7 is 5040\n"
     ]
    }
   ],
   "source": [
    " the factorial of a non-negative integer  is the product of all positive integers less \n",
    "\n",
    "\n",
    "# Python program to find the factorial of a number provided by the user.\n",
    "\n",
    "num = 7  # You can change this value for a different result\n",
    "\n",
    "factorial = 1\n",
    "\n",
    "# Check if the number is negative, positive, or zero\n",
    "if num < 0:\n",
    "    print(\"Sorry, factorial does not exist for negative numbers\")\n",
    "elif num == 0:\n",
    "    print(\"The factorial of 0 is 1\")\n",
    "else:\n",
    "    for i in range(1, num + 1):\n",
    "        factorial *= i\n",
    "    print(f\"The factorial of {num} is {factorial}\")\n"
   ]
  },
  {
   "cell_type": "code",
   "execution_count": 2,
   "id": "7241ab04-fe67-445a-bd62-2e039dfbcefa",
   "metadata": {},
   "outputs": [
    {
     "name": "stdout",
     "output_type": "stream",
     "text": [
      "S is an UpperCase character\n",
      "s is a LowerCase character\n",
      "0 is not an alphabetic character\n"
     ]
    }
   ],
   "source": [
    "#write a program to identify the input character by the user as lowercase,uppercase,numerics,or special characters.\n",
    "\n",
    "def check(char):\n",
    "    if 'A' <= char <= 'Z':\n",
    "        print(f\"{char} is an UpperCase character\")\n",
    "    elif 'a' <= char <= 'z':\n",
    "        print(f\"{char} is a LowerCase character\")\n",
    "    else:\n",
    "        print(f\"{char} is not an alphabetic character\")\n",
    "\n",
    "# Example usage:\n",
    "ch = 'S'\n",
    "check(ch)  # Output: A is an UpperCase character\n",
    "ch = 's'\n",
    "check(ch)  # Output: a is a LowerCase character\n",
    "ch = '0'\n",
    "check(ch)  # Output: 0 is not an alphabetic character\n"
   ]
  },
  {
   "cell_type": "code",
   "execution_count": 18,
   "id": "5f4b1e6b-a665-43a5-8743-f96910b2f662",
   "metadata": {},
   "outputs": [
    {
     "name": "stdout",
     "output_type": "stream",
     "text": [
      "9\n"
     ]
    }
   ],
   "source": [
    "#arithmetic operations\n",
    "\n",
    "#add\n",
    "x=6\n",
    "y=3\n",
    "print(x+y)\n"
   ]
  },
  {
   "cell_type": "code",
   "execution_count": 19,
   "id": "4a29ac23-5d51-4a37-ab2f-8cb92542408c",
   "metadata": {},
   "outputs": [
    {
     "name": "stdout",
     "output_type": "stream",
     "text": [
      "60\n"
     ]
    }
   ],
   "source": [
    "#sub\n",
    "x=67\n",
    "y=7\n",
    "print(x-y)\n"
   ]
  },
  {
   "cell_type": "code",
   "execution_count": 21,
   "id": "6bc3ec3d-68da-4970-a7a2-7e4b366f80aa",
   "metadata": {},
   "outputs": [
    {
     "name": "stdout",
     "output_type": "stream",
     "text": [
      "21\n"
     ]
    }
   ],
   "source": [
    "#mul\n",
    "x=7\n",
    "y=3\n",
    "print(x*y)\n"
   ]
  },
  {
   "cell_type": "code",
   "execution_count": 22,
   "id": "fea39460-3b1f-4446-8e46-c4c3b3e776ef",
   "metadata": {},
   "outputs": [
    {
     "name": "stdout",
     "output_type": "stream",
     "text": [
      "0.6666666666666666\n"
     ]
    }
   ],
   "source": [
    "#div\n",
    "x=6\n",
    "y=9\n",
    "print(x/y)\n"
   ]
  },
  {
   "cell_type": "code",
   "execution_count": 23,
   "id": "0061cc8e-4d28-43ca-98c7-06dd8e1d60d0",
   "metadata": {},
   "outputs": [
    {
     "name": "stdout",
     "output_type": "stream",
     "text": [
      "1\n"
     ]
    }
   ],
   "source": [
    "#modulus\n",
    "x=3\n",
    "y=2\n",
    "print(x%y)\n"
   ]
  },
  {
   "cell_type": "code",
   "execution_count": 1,
   "id": "1af9d2c0-01bd-4ddb-845c-9bb31174b94a",
   "metadata": {},
   "outputs": [
    {
     "name": "stdout",
     "output_type": "stream",
     "text": [
      "Ignoring non-numeric value: a\n",
      "Ignoring non-numeric value: b\n",
      "Sum of list elements: 15\n"
     ]
    }
   ],
   "source": [
    "def list_sum(lst):\n",
    "    total = 0\n",
    "    for item in lst:\n",
    "        if isinstance(item, (int, float)):\n",
    "            total += item\n",
    "        else:\n",
    "            print(f\"Ignoring non-numeric value: {item}\")\n",
    "    return total\n",
    "\n",
    "\n",
    "my_list = [1, 2, 3, 'a', 4, 5, 'b']\n",
    "print(\"Sum of list elements:\", list_sum(my_list))"
   ]
  },
  {
   "cell_type": "code",
   "execution_count": null,
   "id": "e013e159-1eb6-4b4c-989a-e14e2634f085",
   "metadata": {},
   "outputs": [],
   "source": []
  }
 ],
 "metadata": {
  "kernelspec": {
   "display_name": "Python 3 (ipykernel)",
   "language": "python",
   "name": "python3"
  },
  "language_info": {
   "codemirror_mode": {
    "name": "ipython",
    "version": 3
   },
   "file_extension": ".py",
   "mimetype": "text/x-python",
   "name": "python",
   "nbconvert_exporter": "python",
   "pygments_lexer": "ipython3",
   "version": "3.12.3"
  }
 },
 "nbformat": 4,
 "nbformat_minor": 5
}

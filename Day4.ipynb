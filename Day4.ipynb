{
 "cells": [
  {
   "cell_type": "code",
   "execution_count": 3,
   "id": "25405ecc-1884-4324-86ed-9a92175eb90d",
   "metadata": {},
   "outputs": [
    {
     "name": "stdin",
     "output_type": "stream",
     "text": [
      " @\n"
     ]
    },
    {
     "name": "stdout",
     "output_type": "stream",
     "text": [
      "A is a special character\n"
     ]
    }
   ],
   "source": [
    "#Homework questions\n",
    "\n",
    "#Write a program to identify the input character by the user as lower case, uper case, numerics or special characters.\n",
    "\n",
    "a=input()\n",
    "\n",
    "if a.isupper():\n",
    "    print(\"A is upper case character\")\n",
    "elif a.islower():\n",
    "    print(\"A is a lower case character\")\n",
    "elif a.isnumeric():\n",
    "    print(\"A is a number\")\n",
    "else:\n",
    "    print(\"A is a special character\")"
   ]
  },
  {
   "cell_type": "code",
   "execution_count": 10,
   "id": "f0853666-0914-41ed-bdf1-197ea9bb5f17",
   "metadata": {},
   "outputs": [
    {
     "name": "stdin",
     "output_type": "stream",
     "text": [
      " abcba\n"
     ]
    },
    {
     "name": "stdout",
     "output_type": "stream",
     "text": [
      "pallindrome\n"
     ]
    }
   ],
   "source": [
    "#program of palindrome\n",
    "a=input()\n",
    "flag=0\n",
    "for i in range(0,int(len(a)/2)):\n",
    "    if a[i] != a[(i+1)*-1]:\n",
    "        flag = 1\n",
    "        break\n",
    "if flag:\n",
    "    print(\"Not palindrome\")\n",
    "else:\n",
    "    print(\"pallindrome\")\n",
    "\n"
   ]
  },
  {
   "cell_type": "code",
   "execution_count": 22,
   "id": "58a8c682-4652-447d-9ae4-6c343d5fb29c",
   "metadata": {},
   "outputs": [
    {
     "name": "stdin",
     "output_type": "stream",
     "text": [
      " 9\n"
     ]
    },
    {
     "name": "stdout",
     "output_type": "stream",
     "text": [
      "A is not a prime\n"
     ]
    }
   ],
   "source": [
    "#prime number or not\n",
    "a=int(input())\n",
    "for i in range(2,int(a/2)):\n",
    "    if a%i==0:\n",
    "        print(\"A is not a prime\")\n",
    "        break\n",
    "else:\n",
    "    print(\"A is a prime\")\n",
    "    "
   ]
  },
  {
   "cell_type": "code",
   "execution_count": null,
   "id": "b2053bd6-8d05-46e4-9584-daa2e7deaf42",
   "metadata": {},
   "outputs": [],
   "source": [
    "#file handling\n",
    "update\n",
    "create\n",
    "read\n",
    "delete\n",
    "\n",
    "CRUD operation\n",
    "\n",
    "if__name__== '__main__':\n",
    "    filename = \"example.txt\"\n",
    "    new_filename = \"example.txt\"\n",
    "    create_file(filename)\n",
    "    read_file(filename)\n",
    "    append_file(filename,\"This is some additional text.\\n\")\n",
    "    read_file(filename)\n",
    "    rename_file(filename,new_filename)\n",
    "    read_file(new_filename)\n",
    "    #delete_file(new"
   ]
  },
  {
   "cell_type": "code",
   "execution_count": 37,
   "id": "067a78fa-d1f4-4588-86e0-5875e7b966bd",
   "metadata": {},
   "outputs": [],
   "source": [
    "import os\n",
    "with open(\"salma.txt\",'w') as f:\n",
    "    f.write(\"This is first text in file\\n\")\n",
    "    pass"
   ]
  },
  {
   "cell_type": "code",
   "execution_count": 48,
   "id": "a3901f38-c498-4119-9c2e-bb337ef65bba",
   "metadata": {},
   "outputs": [],
   "source": [
    "import os\n",
    "with open(\"salma.txt\",'w') as f:\n",
    "    f.write(\"This is first text in file\\n\")\n",
    "    f.close"
   ]
  },
  {
   "cell_type": "code",
   "execution_count": 49,
   "id": "5fe5b7db-3ac8-4fcd-b5b5-a242f259ce30",
   "metadata": {},
   "outputs": [],
   "source": [
    "import os\n",
    "with open(\"salma.txt\",'a') as f:\n",
    "    f.write(\"this is second text in file\")\n",
    "    f.close\n"
   ]
  },
  {
   "cell_type": "code",
   "execution_count": 15,
   "id": "43a64fae-c1f6-44f8-8873-2853c501c088",
   "metadata": {},
   "outputs": [],
   "source": [
    "import os\n",
    "\n",
    "os.remove(\"file.txt\")"
   ]
  },
  {
   "cell_type": "code",
   "execution_count": 25,
   "id": "f88fc397-4487-49c9-86a8-786f4e8d615e",
   "metadata": {},
   "outputs": [
    {
     "name": "stdout",
     "output_type": "stream",
     "text": [
      "this is second text in file\n",
      "111\n"
     ]
    }
   ],
   "source": [
    "import os\n",
    "with open(\"salma.txt\",'r') as f:\n",
    "    for a in f.read().split(\"\\n\"):\n",
    "        print(a)\n",
    "        print(\"111\")\n",
    "    f.close\n"
   ]
  },
  {
   "cell_type": "code",
   "execution_count": 26,
   "id": "a575ee39-8be3-4acd-9dc6-604b11c8117e",
   "metadata": {},
   "outputs": [
    {
     "name": "stdout",
     "output_type": "stream",
     "text": [
      "t\n",
      "111\n",
      "h\n",
      "111\n",
      "i\n",
      "111\n",
      "s\n",
      "111\n",
      " \n",
      "111\n",
      "i\n",
      "111\n",
      "s\n",
      "111\n",
      " \n",
      "111\n",
      "s\n",
      "111\n",
      "e\n",
      "111\n",
      "c\n",
      "111\n",
      "o\n",
      "111\n",
      "n\n",
      "111\n",
      "d\n",
      "111\n",
      " \n",
      "111\n",
      "t\n",
      "111\n",
      "e\n",
      "111\n",
      "x\n",
      "111\n",
      "t\n",
      "111\n",
      " \n",
      "111\n",
      "i\n",
      "111\n",
      "n\n",
      "111\n",
      " \n",
      "111\n",
      "f\n",
      "111\n",
      "i\n",
      "111\n",
      "l\n",
      "111\n",
      "e\n",
      "111\n"
     ]
    }
   ],
   "source": [
    "import os\n",
    "with open(\"salma.txt\",'r') as f:\n",
    "    for a in f.read():\n",
    "        print(a)\n",
    "        print(\"111\")\n",
    "    f.close\n"
   ]
  },
  {
   "cell_type": "code",
   "execution_count": null,
   "id": "b126d5a2-15a8-44fa-826b-e7f3ed3e0d10",
   "metadata": {},
   "outputs": [],
   "source": [
    "w=write\n",
    "r=read\n",
    "a=append\n",
    "w+ = write and read\n",
    "r+ =read and write\n",
    "a+ =append and read\n"
   ]
  },
  {
   "cell_type": "code",
   "execution_count": 59,
   "id": "ed90fb3f-750d-4233-8119-108c3e802865",
   "metadata": {},
   "outputs": [],
   "source": [
    "import os\n",
    "with open(\"salma.txt1\",'w') as f:\n",
    "    f.write(\"Fruit Names\\n\")\n",
    "    pass"
   ]
  },
  {
   "cell_type": "code",
   "execution_count": 60,
   "id": "aac5f88e-93e4-47f8-8c2c-c2fd06e4aa14",
   "metadata": {},
   "outputs": [],
   "source": [
    "import os\n",
    "with open(\"salma.txt1\",'a') as f:\n",
    "    f.write(\"apple,banana,mango,grapes\\n\")\n",
    "    f.close"
   ]
  },
  {
   "cell_type": "code",
   "execution_count": null,
   "id": "62ea6a3b-7362-458a-94b8-0501fdfdc9c6",
   "metadata": {},
   "outputs": [],
   "source": [
    "name = input(\"enter the fruit name\")\n"
   ]
  }
 ],
 "metadata": {
  "kernelspec": {
   "display_name": "Python 3 (ipykernel)",
   "language": "python",
   "name": "python3"
  },
  "language_info": {
   "codemirror_mode": {
    "name": "ipython",
    "version": 3
   },
   "file_extension": ".py",
   "mimetype": "text/x-python",
   "name": "python",
   "nbconvert_exporter": "python",
   "pygments_lexer": "ipython3",
   "version": "3.12.3"
  }
 },
 "nbformat": 4,
 "nbformat_minor": 5
}

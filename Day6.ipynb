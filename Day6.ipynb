{
 "cells": [
  {
   "cell_type": "code",
   "execution_count": 10,
   "id": "df80ab1f-4100-4c60-91ec-13b9bfbcef75",
   "metadata": {},
   "outputs": [
    {
     "name": "stdout",
     "output_type": "stream",
     "text": [
      "The configuration of vehicle\n",
      "regplate 35234\n",
      "price 15000\n",
      "colour black\n",
      "engine piston\n",
      "the configuration of car\n",
      "types BMW\n",
      "noofpassenger 5\n",
      "maxspeed 250kmph\n",
      "the configuration of truck is:\n",
      "noofaxle 10\n",
      "loadcapacity 1000\n"
     ]
    }
   ],
   "source": [
    "#classes\n",
    "\n",
    "class vehicle:\n",
    "    def __init__(self,r,p,c,e):\n",
    "        self.regplate=r\n",
    "        self.price=p\n",
    "        self.colour=c\n",
    "        self.engine=e\n",
    "    def config(self):\n",
    "        print(\"The configuration of vehicle\")\n",
    "        print(\"regplate\",self.regplate)\n",
    "        print(\"price\",self.price)\n",
    "        print(\"colour\",self.colour)\n",
    "        print(\"engine\",self.engine)\n",
    "\n",
    "if __name__==\"__main__\":\n",
    "    a=vehicle(35234,15000,\"black\",\"piston\")\n",
    "    a.config()\n",
    "        \n",
    "class car:\n",
    "    def __init__(self,t,n,m):\n",
    "        self.types=t\n",
    "        self.noofpassenger=n\n",
    "        self.maxspeed=m\n",
    "    def config(self):\n",
    "        print(\"the configuration of car\")\n",
    "        print(\"types\",self.types)\n",
    "        print(\"noofpassenger\",self.noofpassenger)\n",
    "        print(\"maxspeed\",self.maxspeed)\n",
    "\n",
    "if __name__==\"__main__\":\n",
    "    a=car(\"BMW\",5,\"250kmph\")\n",
    "    a.config()\n",
    "        \n",
    "class truck:\n",
    "    def __init__(self,n,l):\n",
    "        self.noofaxle=n\n",
    "        self.loadcapacity=l\n",
    "    def config(self):\n",
    "        print(\"the configuration of truck is:\")\n",
    "        print(\"noofaxle\",self.noofaxle)\n",
    "        print(\"loadcapacity\",self.loadcapacity)\n",
    "\n",
    "if __name__==\"__main__\":\n",
    "    a=truck(10,1000)\n",
    "    a.config()\n",
    "        "
   ]
  },
  {
   "cell_type": "code",
   "execution_count": 17,
   "id": "4c0636e5-4a1a-4664-9307-4d273c76fa25",
   "metadata": {},
   "outputs": [
    {
     "name": "stdout",
     "output_type": "stream",
     "text": [
      "the details of employee is\n",
      "epid 417\n",
      "epname salma\n",
      "epsalary 70000\n",
      "the details of staff is\n",
      "worktype lectural\n",
      "workarea BITM\n",
      "the data of developer is\n",
      "module database\n",
      "tech sql\n",
      "experience 6\n",
      "the data of manager is\n",
      "project hospital management system\n",
      "clientname salma\n"
     ]
    }
   ],
   "source": [
    "class employee:\n",
    "    def __init__(self,ei,en,es):\n",
    "        self.epid=ei\n",
    "        self.epname=en\n",
    "        self.epsalary=es\n",
    "    def config(self):\n",
    "        print(\"the details of employee is\")\n",
    "        print(\"epid\",self.epid)\n",
    "        print(\"epname\",self.epname)\n",
    "        print(\"epsalary\",self.epsalary)\n",
    "\n",
    "if __name__==\"__main__\":\n",
    "    a=employee(417,\"salma\",70000)\n",
    "    a.config()\n",
    "\n",
    "class staff:\n",
    "    def __init__(self,wt,wa):\n",
    "        self.worktype=wt\n",
    "        self.workarea=wa\n",
    "    def config(self):\n",
    "        print(\"the details of staff is\")\n",
    "        print(\"worktype\",self.worktype)\n",
    "        print(\"workarea\",self.workarea)\n",
    "\n",
    "if __name__==\"__main__\":\n",
    "    a=staff(\"lectural\",\"BITM\")\n",
    "    a.config()\n",
    "\n",
    "\n",
    "class developer:\n",
    "    def __init__(self,m,t,e):\n",
    "        self.module=m\n",
    "        self.tech=t\n",
    "        self.experience=e\n",
    "    def config(self):\n",
    "        print(\"the data of developer is\")\n",
    "        print(\"module\",self.module)\n",
    "        print(\"tech\",self.tech)\n",
    "        print(\"experience\",self.experience)\n",
    "\n",
    "if __name__==\"__main__\":\n",
    "    a=developer(\"database\",\"sql\",6)\n",
    "    a.config()\n",
    "\n",
    "class manager:\n",
    "    def __init__(self,p,c):\n",
    "        self.project=p\n",
    "        self.clientname=c\n",
    "    def config(self):\n",
    "        print(\"the data of manager is\")\n",
    "        print(\"project\",self.project)\n",
    "        print(\"clientname\",self.clientname)\n",
    "\n",
    "if __name__==\"__main__\":\n",
    "    a=manager(\"hospital management system\",\"salma\")\n",
    "    a.config()"
   ]
  },
  {
   "cell_type": "code",
   "execution_count": 38,
   "id": "cc54e7b5-99e0-4145-9da3-1029a819a482",
   "metadata": {},
   "outputs": [
    {
     "name": "stdout",
     "output_type": "stream",
     "text": [
      "*\n",
      "**\n",
      "***\n",
      "****\n",
      "*****\n"
     ]
    }
   ],
   "source": [
    "def half_pyramid(n):\n",
    "    for i in range(0, n+1):\n",
    "        for j in range(0, i+1):\n",
    "            print(\"*\",end=\"\")\n",
    "        print()\n",
    "        \n",
    "        \n",
    "n=4\n",
    "half_pyramid(n)\n"
   ]
  },
  {
   "cell_type": "code",
   "execution_count": 51,
   "id": "d672ec76-3bad-49ee-8af7-5d35db2e6903",
   "metadata": {},
   "outputs": [
    {
     "name": "stdout",
     "output_type": "stream",
     "text": [
      "*******\n",
      "*******\n",
      "*******\n",
      "*******\n",
      "*******\n",
      "*******\n",
      "*******\n"
     ]
    }
   ],
   "source": [
    "def half_pyramid(n):\n",
    "    for i in range(0+1,n):\n",
    "        for j in range(0,7):\n",
    "            print(\"*\",end=\"\")\n",
    "        print()\n",
    "\n",
    "n=8\n",
    "half_pyramid(n)"
   ]
  },
  {
   "cell_type": "code",
   "execution_count": 63,
   "id": "ccb460e2-c032-4dfa-9c76-07f068720caf",
   "metadata": {},
   "outputs": [
    {
     "name": "stdout",
     "output_type": "stream",
     "text": [
      "1 2 3 4 5 \n",
      "1 2 3 4 \n",
      "1 2 3 \n",
      "1 2 \n"
     ]
    }
   ],
   "source": [
    "rows = 5\n",
    "\n",
    "# reverse for loop from 5 to 0\n",
    "for i in range(rows,1, -1):\n",
    "    \n",
    "    for j in range(1, i + 1):\n",
    "        print(j, end=' ')\n",
    "    print('\\r')"
   ]
  },
  {
   "cell_type": "code",
   "execution_count": 64,
   "id": "73e73b90-523e-4935-9293-2b2f3e17ef7d",
   "metadata": {},
   "outputs": [
    {
     "name": "stdout",
     "output_type": "stream",
     "text": [
      "        * \n",
      "      * * \n",
      "    * * * \n",
      "  * * * * \n",
      "* * * * * \n"
     ]
    }
   ],
   "source": [
    "\n",
    "rows = 5\n",
    "k = 2 * rows - 2\n",
    "for i in range(0, rows):\n",
    "    \n",
    "    for j in range(0, k):\n",
    "        \n",
    "        print(end=\" \")\n",
    "    k = k - 2\n",
    "    for j in range(0, i + 1):\n",
    "        \n",
    "        print(\"* \", end=\"\")\n",
    "    print(\"\")\n"
   ]
  },
  {
   "cell_type": "code",
   "execution_count": 66,
   "id": "2fc21df3-47c8-4150-b6f8-600605c8ba70",
   "metadata": {},
   "outputs": [
    {
     "name": "stdout",
     "output_type": "stream",
     "text": [
      "* * * * *  \n",
      "* * * *  \n",
      "* * *  \n",
      "* *  \n",
      "*  \n",
      " \n"
     ]
    }
   ],
   "source": [
    "rows = 5\n",
    "for i in range(rows + 1, 0, -1):\n",
    "    \n",
    "    for j in range(0, i - 1):\n",
    "        \n",
    "        print(\"*\", end=' ')\n",
    "    print(\" \")\n"
   ]
  },
  {
   "cell_type": "code",
   "execution_count": 67,
   "id": "7df24072-be9e-4037-abcf-e263bf8866d2",
   "metadata": {},
   "outputs": [
    {
     "name": "stdout",
     "output_type": "stream",
     "text": [
      "        * \n",
      "       * * \n",
      "      * * * \n",
      "     * * * * \n",
      "    * * * * * \n",
      "   * * * * * * \n",
      "    * * * * * \n",
      "     * * * * \n",
      "      * * * \n",
      "       * * \n",
      "        * \n"
     ]
    }
   ],
   "source": [
    "rows = 5\n",
    "k = 2 * rows - 2\n",
    "for i in range(0, rows):\n",
    "    for j in range(0, k):\n",
    "        print(end=\" \")\n",
    "    k = k - 1\n",
    "    for j in range(0, i + 1):\n",
    "        print(\"* \", end=\"\")\n",
    "    print(\"\")\n",
    "    \n",
    "k = rows - 2\n",
    "\n",
    "for i in range(rows, -1, -1):\n",
    "    for j in range(k, 0, -1):\n",
    "        print(end=\" \")\n",
    "    k = k + 1\n",
    "    for j in range(0, i + 1):\n",
    "        print(\"* \", end=\"\")\n",
    "    print(\"\")"
   ]
  },
  {
   "cell_type": "code",
   "execution_count": 69,
   "id": "59585285-7ba2-4110-a4eb-93e7afc9727e",
   "metadata": {},
   "outputs": [
    {
     "name": "stdout",
     "output_type": "stream",
     "text": [
      "* \n",
      "* * \n",
      "* * * \n",
      "* * * * \n",
      "* * * \n",
      "* * \n",
      "* \n",
      "\n"
     ]
    }
   ],
   "source": [
    "rows = 4\n",
    "for i in range(0, rows):\n",
    "    for j in range(0, i + 1):\n",
    "        print(\"*\", end=' ')\n",
    "    print(\"\\r\")\n",
    "\n",
    "for i in range(rows, 0, -1):\n",
    "    for j in range(0, i - 1):\n",
    "        print(\"*\", end=' ')\n",
    "    print(\"\\r\")\n"
   ]
  },
  {
   "cell_type": "code",
   "execution_count": 70,
   "id": "40cb8f5d-022f-4b46-9926-7c6e65d47a28",
   "metadata": {},
   "outputs": [
    {
     "name": "stdout",
     "output_type": "stream",
     "text": [
      "*****\n",
      "*   *\n",
      "*   *\n",
      "*   *\n",
      "*****\n"
     ]
    }
   ],
   "source": [
    "size = 5\n",
    "for i in range(size):\n",
    "    for j in range(size):\n",
    "        \n",
    "        if i == 0 or i == size - 1 or j == 0 or j == size - 1:\n",
    "            print('*', end='')\n",
    "        else:\n",
    "            print(' ', end='')\n",
    "    print()"
   ]
  },
  {
   "cell_type": "code",
   "execution_count": 71,
   "id": "88ce4b4d-b3aa-408f-8934-7222dc557bda",
   "metadata": {},
   "outputs": [
    {
     "name": "stdout",
     "output_type": "stream",
     "text": [
      "    *\n",
      "   ***\n",
      "  *****\n",
      " *******\n",
      "*********\n"
     ]
    }
   ],
   "source": [
    "n = 5\n",
    "for i in range(1, n+1):\n",
    "    for j in range(n - i):\n",
    "        print(' ', end='')\n",
    "    for k in range(2 * i - 1):\n",
    "        print('*', end='')\n",
    "    print()\n"
   ]
  },
  {
   "cell_type": "code",
   "execution_count": null,
   "id": "04e9c80b-b9ad-4fec-b920-b159a155ba06",
   "metadata": {},
   "outputs": [],
   "source": []
  },
  {
   "cell_type": "code",
   "execution_count": null,
   "id": "e65c0f2f-7d01-4e58-85f2-e560df5ec661",
   "metadata": {},
   "outputs": [],
   "source": []
  },
  {
   "cell_type": "code",
   "execution_count": null,
   "id": "d5f9b416-8b3c-4217-8466-5b6adee3721e",
   "metadata": {},
   "outputs": [],
   "source": []
  },
  {
   "cell_type": "code",
   "execution_count": null,
   "id": "b9c926a8-8f4b-4f29-b960-d5d12760e11b",
   "metadata": {},
   "outputs": [],
   "source": []
  },
  {
   "cell_type": "code",
   "execution_count": null,
   "id": "4ce7d69a-f706-4556-9048-15f571d5c911",
   "metadata": {},
   "outputs": [],
   "source": []
  },
  {
   "cell_type": "code",
   "execution_count": 34,
   "id": "2861f186-d228-4e75-a06a-740b61c45ad0",
   "metadata": {},
   "outputs": [
    {
     "name": "stdout",
     "output_type": "stream",
     "text": [
      "*       *\n",
      "**     **\n",
      "***   ***\n",
      "**** ****\n",
      "*********\n",
      "**** ****\n",
      "***   ***\n",
      "**     **\n",
      "*       *\n"
     ]
    }
   ],
   "source": [
    "# Number of rows\n",
    "N = 5\n",
    "\n",
    "# Variables to store number of spaces and stars\n",
    "spaces = 2 * N - 1\n",
    "stars = 0\n",
    "\n",
    "# The outer loop will run for (2 * N - 1) times\n",
    "for i in range(1, 2 * N):\n",
    "\t# Upper half of the butterfly\n",
    "\tif i <= N:\n",
    "\t\tspaces = spaces - 2\n",
    "\t\tstars += 1\n",
    "\t# Lower half of the butterfly\n",
    "\telse:\n",
    "\t\tspaces = spaces + 2\n",
    "\t\tstars -= 1\n",
    "\n",
    "\t# Print stars\n",
    "\tfor j in range(1, stars + 1):\n",
    "\t\tprint(\"*\", end=\"\")\n",
    "\n",
    "\t# Print spaces\n",
    "\tfor j in range(1, spaces + 1):\n",
    "\t\tprint(\" \", end=\"\")\n",
    "\n",
    "\t# Print stars\n",
    "\tfor j in range(1, stars + 1):\n",
    "\t\tif j != N:\n",
    "\t\t\tprint(\"*\", end=\"\")\n",
    "\n",
    "\tprint() # Move to the next line\n"
   ]
  },
  {
   "cell_type": "code",
   "execution_count": null,
   "id": "186043dd-dbb9-46a7-8e9a-71b831cd2013",
   "metadata": {},
   "outputs": [],
   "source": [
    "def"
   ]
  }
 ],
 "metadata": {
  "kernelspec": {
   "display_name": "Python 3 (ipykernel)",
   "language": "python",
   "name": "python3"
  },
  "language_info": {
   "codemirror_mode": {
    "name": "ipython",
    "version": 3
   },
   "file_extension": ".py",
   "mimetype": "text/x-python",
   "name": "python",
   "nbconvert_exporter": "python",
   "pygments_lexer": "ipython3",
   "version": "3.12.3"
  }
 },
 "nbformat": 4,
 "nbformat_minor": 5
}

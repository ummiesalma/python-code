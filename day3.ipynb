{
 "cells": [
  {
   "cell_type": "code",
   "execution_count": 1,
   "id": "ea3e05a0-eebe-4ced-b6d2-c60cef48220c",
   "metadata": {},
   "outputs": [
    {
     "name": "stdout",
     "output_type": "stream",
     "text": [
      "[1, 2, 3, 4, 5, 6]\n"
     ]
    }
   ],
   "source": [
    "#list\n",
    "a=[1,2,3,4,5,6]\n",
    "print(a)\n"
   ]
  },
  {
   "cell_type": "code",
   "execution_count": 4,
   "id": "7579cf19-7176-46bc-a482-9f3a6bd738c5",
   "metadata": {},
   "outputs": [
    {
     "name": "stdout",
     "output_type": "stream",
     "text": [
      "[3, 4, 5, 6, 7]\n",
      "<class 'list'>\n",
      "2 3\n"
     ]
    }
   ],
   "source": [
    "a=[3,4,5,6,7]\n",
    "print(a)\n",
    "print(type(a))\n",
    "print(2,3)"
   ]
  },
  {
   "cell_type": "code",
   "execution_count": 6,
   "id": "92d61748-d5f1-43b6-8287-ec2f367833ed",
   "metadata": {},
   "outputs": [
    {
     "name": "stdout",
     "output_type": "stream",
     "text": [
      "[34, 54, 12, 3.4, 'salma']\n",
      "<class 'list'>\n",
      "4 2\n"
     ]
    }
   ],
   "source": [
    "a=[34,54,12,3.4,\"salma\"]\n",
    "print(a)\n",
    "print(type(a))\n",
    "print(4,2)\n",
    "\n"
   ]
  },
  {
   "cell_type": "code",
   "execution_count": 9,
   "id": "e443e9e7-25c2-4577-9383-08da1787a5d4",
   "metadata": {},
   "outputs": [
    {
     "name": "stdout",
     "output_type": "stream",
     "text": [
      "10\n",
      "34\n",
      "25\n",
      "9\n",
      "87\n"
     ]
    }
   ],
   "source": [
    "x=[10,34,25,9,87,78]\n",
    "for a in range(0,5):\n",
    "    print(x[a])"
   ]
  },
  {
   "cell_type": "code",
   "execution_count": null,
   "id": "52056685-974d-4cc5-aabf-90b430defcf2",
   "metadata": {},
   "outputs": [],
   "source": [
    "#list operations\n",
    "\n",
    "->pop to pull out element of the list (default is last)\n",
    "->sort the list in acending order and return none\n",
    "->copy the element\n",
    "->append object to end of the list\n",
    "->extend the list by appending elements from the iterable\n",
    "->index return first index of value\n",
    "->count return no of occurrences of value\n",
    "->insert insert object before index\n",
    "->remove remove first occurrence object\n",
    "->lenght lenght is used to find the lenght of list\n",
    "\n"
   ]
  },
  {
   "cell_type": "code",
   "execution_count": 17,
   "id": "fc49aa40-086e-4de4-9137-326130f72987",
   "metadata": {},
   "outputs": [
    {
     "name": "stdout",
     "output_type": "stream",
     "text": [
      "[1, 2, 3, 4, 5, 6, 7, 8, 9, 10]\n",
      "4\n",
      "[1, 2, 3, 5, 6, 7, 8, 9, 10]\n",
      "[1, 2, 3, 5, 6, 7, 8, 9, 10, 10]\n",
      "[1, 2, 3, 5, 6, 7, 8, 9, 10, 10, 3, 7, 3]\n",
      "2\n",
      "3\n",
      "2\n",
      "[1, 2, 3, 5, 9, 6, 7, 8, 9, 10, 10, 3, 7, 3]\n",
      "[1, 2, 3, 3, 3, 5, 6, 7, 7, 8, 9, 9, 10, 10]\n",
      "[10, 10, 9, 9, 8, 7, 7, 6, 5, 3, 3, 3, 2, 1]\n",
      "14\n",
      "[10, 10, 9, 9, 8, 7, 7, 6, 5, 3, 3, 3, 2, 1, 1, 2, 3, 4, 5, 6, 7, 8, 9, 10, 1, 2, 3, 4, 5, 6, 7, 8, 9, 10]\n"
     ]
    }
   ],
   "source": [
    "#list operations\n",
    "a=[1,2,3,4,5,6,7,8,9,10]\n",
    "b=a.copy()\n",
    "print(b)\n",
    "\n",
    "c=b.pop(3)\n",
    "print(c)\n",
    "\n",
    "print(b)\n",
    "\n",
    "b.append(10)\n",
    "print(b)\n",
    "b.append(3)\n",
    "b.append(7)\n",
    "b.append(3)\n",
    "print(b)\n",
    "print(b.index(3))\n",
    "print(b.count(3))\n",
    "print(b.count(10))\n",
    "\n",
    "b.insert(4,9)\n",
    "print(b)\n",
    "\n",
    "b.sort()\n",
    "print(b)\n",
    "b.sort(reverse=True)\n",
    "print(b)\n",
    "\n",
    "print(len(b))\n",
    "\n",
    "b.extend(a)\n",
    "print(b)\n",
    "print(b+a)"
   ]
  },
  {
   "cell_type": "code",
   "execution_count": 19,
   "id": "577ddb9a-c0ae-49a3-8be3-0543b3b6c8ed",
   "metadata": {},
   "outputs": [
    {
     "name": "stdout",
     "output_type": "stream",
     "text": [
      "10\n",
      "3\n",
      "5\n",
      "8\n",
      "93\n",
      "8\n",
      "383\n",
      "72\n",
      "983\n",
      "738\n",
      "89\n"
     ]
    }
   ],
   "source": [
    "#for each loop\n",
    "a=[10,3,5,8,93,8,383,72,983,738,89]\n",
    "for x in a:\n",
    "    print(x)"
   ]
  },
  {
   "cell_type": "code",
   "execution_count": 2,
   "id": "345eb444-6240-4414-b368-157734c26d83",
   "metadata": {},
   "outputs": [
    {
     "name": "stdin",
     "output_type": "stream",
     "text": [
      "Enter the size of list:  7\n",
      " 3\n",
      " 4\n",
      " 6\n",
      " 7\n",
      " \n",
      " 5\n",
      " 4\n"
     ]
    },
    {
     "name": "stdout",
     "output_type": "stream",
     "text": [
      "['3', '4', '6', '7', '', '5', '4']\n"
     ]
    }
   ],
   "source": [
    "n=int(input(\"Enter the size of list: \"))\n",
    "a=[]\n",
    "for x in range(0,n):\n",
    "    x=input()\n",
    "    a.append(x)\n",
    "print(a)\n",
    "\n"
   ]
  },
  {
   "cell_type": "code",
   "execution_count": 7,
   "id": "b35e0aa1-5a14-4045-8d9e-743e08c2ebef",
   "metadata": {},
   "outputs": [
    {
     "name": "stdin",
     "output_type": "stream",
     "text": [
      "Enter the Elements of the list: 1 2 3 4 5 6 7\n"
     ]
    },
    {
     "name": "stdout",
     "output_type": "stream",
     "text": [
      "['1', '2', '3', '4', '5', '6', '7']\n"
     ]
    }
   ],
   "source": [
    "a=[item for item in (input(\"Enter the Elements of the list:\").split())]\n",
    "print(a)"
   ]
  },
  {
   "cell_type": "code",
   "execution_count": 8,
   "id": "650b3531-0383-4876-8732-8291510ed0b8",
   "metadata": {},
   "outputs": [
    {
     "name": "stdin",
     "output_type": "stream",
     "text": [
      "Enter the elements of the list: 2 4 5 6 7 8 \n"
     ]
    },
    {
     "name": "stdout",
     "output_type": "stream",
     "text": [
      "[2, 4, 5, 6, 7, 8]\n"
     ]
    }
   ],
   "source": [
    "a=[int(item) for item in (input(\"Enter the elements of the list:\").split())]\n",
    "print(a)"
   ]
  },
  {
   "cell_type": "code",
   "execution_count": 9,
   "id": "f9ff58de-a71d-483c-af7a-911a94aa8744",
   "metadata": {},
   "outputs": [
    {
     "name": "stdout",
     "output_type": "stream",
     "text": [
      "[1, 2, 3, 4, 5, 6, 7]\n"
     ]
    }
   ],
   "source": [
    "#list constructor\n",
    "\n",
    "a=list([1,2,3,4,5,6,7])\n",
    "print(a)"
   ]
  },
  {
   "cell_type": "code",
   "execution_count": 10,
   "id": "34a0a16b-3495-497e-8098-a9c556a72281",
   "metadata": {},
   "outputs": [
    {
     "name": "stdout",
     "output_type": "stream",
     "text": [
      "(1, 2, 3, 4, 5, 6, 7, 'salma')\n"
     ]
    }
   ],
   "source": [
    "#tuple\n",
    "\n",
    "a=(1,2,3,4,5,6,7,\"salma\")\n",
    "print(a)\n"
   ]
  },
  {
   "cell_type": "code",
   "execution_count": 12,
   "id": "1b325015-8fc2-4e04-8922-e400bed08d5f",
   "metadata": {},
   "outputs": [
    {
     "name": "stdout",
     "output_type": "stream",
     "text": [
      "[1, 2, 3, 4, 5, 6, 7, 'salma']\n",
      "(1, 2, 3, 4, 5, 'umme', 7, 'salma')\n"
     ]
    }
   ],
   "source": [
    "#tuble in list\n",
    "\n",
    "a=(1,2,3,4,5,6,7,\"salma\")\n",
    "\n",
    "b=list(a)\n",
    "print(b)\n",
    "b[5]=\"umme\"\n",
    "\n",
    "a=tuple(b)\n",
    "print(a)"
   ]
  },
  {
   "cell_type": "code",
   "execution_count": 2,
   "id": "db5c8ec0-b07d-4cdb-a09f-d89673435208",
   "metadata": {},
   "outputs": [
    {
     "name": "stdout",
     "output_type": "stream",
     "text": [
      "9\n",
      "8\n",
      "7\n",
      "6\n",
      "5\n",
      "4\n",
      "3\n",
      "2\n",
      "1\n"
     ]
    }
   ],
   "source": [
    "a=(1,2,3,4,5,6,7,8,9)\n",
    "for x in range(-1,-1*(len(a)+1),-1):\n",
    "    print(a[x])"
   ]
  },
  {
   "cell_type": "code",
   "execution_count": 3,
   "id": "a15bcdc2-d0d5-44c7-8b97-8358d5982248",
   "metadata": {},
   "outputs": [
    {
     "name": "stdout",
     "output_type": "stream",
     "text": [
      "9\n",
      "8\n",
      "7\n",
      "6\n",
      "5\n",
      "4\n",
      "3\n",
      "2\n",
      "1\n"
     ]
    }
   ],
   "source": [
    "a=(1,2,3,4,5,6,7,8,9)\n",
    "for x in range(0,len(a)):\n",
    "    print(a[-1*(x+1)])"
   ]
  },
  {
   "cell_type": "code",
   "execution_count": null,
   "id": "5fd53da6-ed91-4903-9d8e-3dcb83b1d3c2",
   "metadata": {},
   "outputs": [],
   "source": [
    "#dictionary\n",
    "having key and pairs\n",
    "key value pairs\n",
    "get \n",
    "items\n",
    "copy"
   ]
  },
  {
   "cell_type": "code",
   "execution_count": 14,
   "id": "5194bcf0-db13-45c6-8764-a3538cb85b54",
   "metadata": {},
   "outputs": [
    {
     "name": "stdout",
     "output_type": "stream",
     "text": [
      "{1: 'salma', 2: 'abcd', 3: 'salma'}\n",
      "abcd\n",
      "dict_keys([1, 2, 3])\n",
      "dict_values(['salma', 'abcd', 'salma'])\n",
      "dict_items([(1, 'salma'), (2, 'abcd'), (3, 'salma')])\n",
      "abcd\n"
     ]
    }
   ],
   "source": [
    "D={1:\"salma\",2:\"umme\",3:\"salma\",2:\"abcd\"}\n",
    "print(D)\n",
    "\n",
    "print(D[2])\n",
    "\n",
    "print(D.keys())\n",
    "print(D.values())\n",
    "print(D.items())\n",
    "print(D.get(2))\n",
    "print(D.get(4))"
   ]
  },
  {
   "cell_type": "code",
   "execution_count": 10,
   "id": "aca1c1d0-b1c0-4e15-b642-65bb801554ce",
   "metadata": {},
   "outputs": [
    {
     "name": "stdout",
     "output_type": "stream",
     "text": [
      "{1: 'sona', 2: 'sana', 3: 'mussu', 4: 'aziiya'}\n",
      "dict_keys([1, 2, 3, 4, 5, 8])\n",
      "dict_values(['sona', 'sana', 'mussu', 'aziiya', 'mango', 'cherry'])\n",
      "dict_items([(1, 'sona'), (2, 'sana'), (3, 'mussu'), (4, 'aziiya'), (5, 'mango'), (8, 'cherry')])\n",
      "None\n"
     ]
    }
   ],
   "source": [
    "#write a program to take key and value as input user and add it to dictionary if key is not present in dictionary otherwise key is already exits and prints its value\n",
    "d={1:\"sona\",2:\"sana\",3:\"mussu\",4:\"aziiya\"}\n",
    "print(d)\n",
    "d[5]=\"mango\"\n",
    "d[8]=\"cherry\"\n",
    "print(d.keys())\n",
    "print(d.values())\n",
    "print(d.items())\n",
    "print(d.get(6))\n",
    "\n"
   ]
  },
  {
   "cell_type": "code",
   "execution_count": 12,
   "id": "3b303832-e0c1-4978-a52d-12de6b850204",
   "metadata": {},
   "outputs": [
    {
     "name": "stdin",
     "output_type": "stream",
     "text": [
      "enter the index: 10\n"
     ]
    },
    {
     "name": "stdout",
     "output_type": "stream",
     "text": [
      "there is no such index\n"
     ]
    }
   ],
   "source": [
    "#create a list from the user prints the value otherwise prints the default value\n",
    "\n",
    "a=[1,2,3,4,5,6]\n",
    "i=int(input(\"enter the index:\"))\n",
    "try:\n",
    "    print(a[i])\n",
    "except:\n",
    "    print(\"there is no such index\")\n",
    "\n",
    "\n",
    "\n"
   ]
  },
  {
   "cell_type": "code",
   "execution_count": 14,
   "id": "61be2626-c33b-46ec-97b9-4a7c5db82ab9",
   "metadata": {},
   "outputs": [
    {
     "name": "stdout",
     "output_type": "stream",
     "text": [
      "can't Divide by Zero\n",
      "code Execution done\n"
     ]
    }
   ],
   "source": [
    "try:\n",
    "    c=10/0\n",
    "except ValueError:\n",
    "    print(\"Data Type Issue\")\n",
    "except ZeroDivisionError:\n",
    "    print(\"can't Divide by Zero\")\n",
    "except:\n",
    "    print(\"some unknown Error Found\")\n",
    "else:\n",
    "    print(\"no Error\")\n",
    "finally:\n",
    "    print(\"code Execution done\")\n",
    "\n"
   ]
  },
  {
   "cell_type": "code",
   "execution_count": 15,
   "id": "8963744e-d9ea-4be0-a3bc-e9b4964fa1fc",
   "metadata": {},
   "outputs": [
    {
     "name": "stdin",
     "output_type": "stream",
     "text": [
      " 5\n",
      " 6\n"
     ]
    },
    {
     "name": "stdout",
     "output_type": "stream",
     "text": [
      "no Error\n",
      "code Execution done\n"
     ]
    }
   ],
   "source": [
    "try:\n",
    "    a=input()\n",
    "    b=input()\n",
    "    c=int(a)/int(b)\n",
    "except ValueError:\n",
    "    print(\"Data Type Issue\")\n",
    "except ZeroDivisionError:\n",
    "    print(\"can't Divide by Zero\")\n",
    "except:\n",
    "    print(\"some unknown Error Found\")\n",
    "else:\n",
    "    print(\"no Error\")\n",
    "finally:\n",
    "    print(\"code Execution done\")"
   ]
  },
  {
   "cell_type": "code",
   "execution_count": 17,
   "id": "25b773e8-27d6-4932-8cb5-1ac1f9077225",
   "metadata": {},
   "outputs": [
    {
     "name": "stdin",
     "output_type": "stream",
     "text": [
      " 5\n",
      " 2\n"
     ]
    },
    {
     "name": "stdout",
     "output_type": "stream",
     "text": [
      "some unknown Error Found\n",
      "code Execution done\n"
     ]
    }
   ],
   "source": [
    "try:\n",
    "    a=input()\n",
    "    b=input()\n",
    "    c=int(a)/int(b)\n",
    "    x=\"hello\"/3\n",
    "except ValueError:\n",
    "    print(\"Value unable to convert\")\n",
    "except ZeroDivisionError:\n",
    "    print(\"Can't Divide by Zero\")\n",
    "except:\n",
    "    print(\"some unknown Error Found\")\n",
    "else:\n",
    "    print(\"no Error\")\n",
    "finally:\n",
    "    print(\"code Execution done\")"
   ]
  },
  {
   "cell_type": "code",
   "execution_count": null,
   "id": "d283d618-311b-4c15-945e-1790340a4f38",
   "metadata": {},
   "outputs": [],
   "source": [
    "\n",
    "write a program python to find sum of all the elements in list and handled the case if consist of non-numeric value(using exception)?\n",
    "create a dictionary a student marks with cgpa \n",
    "write a program "
   ]
  },
  {
   "cell_type": "code",
   "execution_count": 1,
   "id": "dc93f6e5-6a2b-4ec7-98b6-9938f2b86bf6",
   "metadata": {},
   "outputs": [
    {
     "name": "stdout",
     "output_type": "stream",
     "text": [
      "Sum of all elements in a list is: 1\n",
      "Sum of all elements in a list is: 3\n",
      "Sum of all elements in a list is: 6\n",
      "Sum of all elements in a list is: 10\n",
      "Sum of all elements in a list is: 15\n"
     ]
    }
   ],
   "source": [
    "\n",
    "#List\n",
    "\n",
    "list=[1,2,3,4,5]\n",
    "sum=0\n",
    "for i in list:\n",
    "    sum=sum+i\n",
    "    print(\"Sum of all elements in a list is:\",sum)"
   ]
  },
  {
   "cell_type": "code",
   "execution_count": 5,
   "id": "d2d0848f-d17a-4f67-bb09-1774748df399",
   "metadata": {},
   "outputs": [
    {
     "ename": "NameError",
     "evalue": "name 'calculate_average_grades' is not defined",
     "output_type": "error",
     "traceback": [
      "\u001b[1;31m---------------------------------------------------------------------------\u001b[0m",
      "\u001b[1;31mNameError\u001b[0m                                 Traceback (most recent call last)",
      "Cell \u001b[1;32mIn[5], line 16\u001b[0m\n\u001b[0;32m      8\u001b[0m     \u001b[38;5;28;01mreturn\u001b[39;00m average_grade\n\u001b[0;32m      9\u001b[0m student_grades \u001b[38;5;241m=\u001b[39m {\n\u001b[0;32m     10\u001b[0m     \u001b[38;5;124m\"\u001b[39m\u001b[38;5;124mAlia\u001b[39m\u001b[38;5;124m\"\u001b[39m: \u001b[38;5;241m85\u001b[39m,\n\u001b[0;32m     11\u001b[0m     \u001b[38;5;124m\"\u001b[39m\u001b[38;5;124mSonu\u001b[39m\u001b[38;5;124m\"\u001b[39m: \u001b[38;5;241m90\u001b[39m,\n\u001b[1;32m   (...)\u001b[0m\n\u001b[0;32m     14\u001b[0m     \u001b[38;5;124m\"\u001b[39m\u001b[38;5;124mAnum\u001b[39m\u001b[38;5;124m\"\u001b[39m: \u001b[38;5;241m88\u001b[39m\n\u001b[0;32m     15\u001b[0m }\n\u001b[1;32m---> 16\u001b[0m average \u001b[38;5;241m=\u001b[39m \u001b[43mcalculate_average_grades\u001b[49m(student_grades)\n\u001b[0;32m     17\u001b[0m \u001b[38;5;28;01mif\u001b[39;00m average \u001b[38;5;129;01mis\u001b[39;00m \u001b[38;5;129;01mnot\u001b[39;00m \u001b[38;5;28;01mNone\u001b[39;00m:\n\u001b[0;32m     18\u001b[0m     \u001b[38;5;28mprint\u001b[39m(\u001b[38;5;124m\"\u001b[39m\u001b[38;5;124mAverage grade:\u001b[39m\u001b[38;5;124m\"\u001b[39m,average)\n",
      "\u001b[1;31mNameError\u001b[0m: name 'calculate_average_grades' is not defined"
     ]
    }
   ],
   "source": [
    "def calculate_average_grade(student_grades):\n",
    "    if not student_grades:\n",
    "        print(\"No grades available.\")\n",
    "        return None\n",
    "\n",
    "    total_grades = sum(student_grades.values())\n",
    "    average_grade = total_grades / len(student_grades)\n",
    "    return average_grade\n",
    "student_grades = {\n",
    "    \"Alia\": 85,\n",
    "    \"Sonu\": 90,\n",
    "    \"Sana\": 78,\n",
    "    \"Sami\": 95,\n",
    "    \"Anum\": 88\n",
    "}\n",
    "average = calculate_average_grades(student_grades)\n",
    "if average is not None:\n",
    "    print(\"Average grade:\",average)"
   ]
  },
  {
   "cell_type": "code",
   "execution_count": null,
   "id": "4acdef57-1717-4d0b-9be6-39a113ba532f",
   "metadata": {},
   "outputs": [],
   "source": []
  }
 ],
 "metadata": {
  "kernelspec": {
   "display_name": "Python 3 (ipykernel)",
   "language": "python",
   "name": "python3"
  },
  "language_info": {
   "codemirror_mode": {
    "name": "ipython",
    "version": 3
   },
   "file_extension": ".py",
   "mimetype": "text/x-python",
   "name": "python",
   "nbconvert_exporter": "python",
   "pygments_lexer": "ipython3",
   "version": "3.12.3"
  }
 },
 "nbformat": 4,
 "nbformat_minor": 5
}

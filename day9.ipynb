{
 "cells": [
  {
   "cell_type": "code",
   "execution_count": 1,
   "id": "6cf381b2-c928-4b0b-a128-7f6d56244eed",
   "metadata": {},
   "outputs": [
    {
     "name": "stdin",
     "output_type": "stream",
     "text": [
      " this is a car\n"
     ]
    },
    {
     "name": "stdout",
     "output_type": "stream",
     "text": [
      "rac a si siht"
     ]
    }
   ],
   "source": [
    "#USING STACK REVERSE THE STRING.\n",
    "\n",
    "a=input()\n",
    "s=[]\n",
    "for e in a:\n",
    "    s.append(e)\n",
    "while len(s)>0:\n",
    "    print(s.pop(),end=\"\")"
   ]
  },
  {
   "cell_type": "code",
   "execution_count": 10,
   "id": "0759a679-ca2d-4a8c-adbd-b2e4a125798a",
   "metadata": {},
   "outputs": [
    {
     "name": "stdin",
     "output_type": "stream",
     "text": [
      " this is a car\n"
     ]
    },
    {
     "name": "stdout",
     "output_type": "stream",
     "text": [
      "car a is this "
     ]
    }
   ],
   "source": [
    "a=input()\n",
    "s=[]\n",
    "for e in a.split():\n",
    "    s.append(e)\n",
    "while len(s)>0:\n",
    "    print(s.pop(),end=' ')"
   ]
  },
  {
   "cell_type": "markdown",
   "id": "3a8cb8ab-c3e0-4c57-b527-68911f04f80f",
   "metadata": {},
   "source": [
    "#infix to postfix \n",
    "\n",
    "rules \n",
    "->if operators then push into the stack.\n",
    "->if others then print or add to the list.\n",
    "->if the operators has the highest priortity then  pop and push the into the stack.\n",
    "^-3 ( right to left associativity) =R\n",
    "* /=2\n",
    "+ -=1\n",
    "(brackets=0\n",
    "oprands=-1\n",
    "other operators =L\n",
    "low presedence high then not pop\n",
    "high presedence low then pop out\n",
    "\n",
    "\n"
   ]
  },
  {
   "cell_type": "code",
   "execution_count": 10,
   "id": "a847f8c7-bacb-4636-b4ea-7ab2793c0ae9",
   "metadata": {},
   "outputs": [
    {
     "name": "stdin",
     "output_type": "stream",
     "text": [
      " a+b\n"
     ]
    },
    {
     "name": "stdout",
     "output_type": "stream",
     "text": [
      "ab+\n"
     ]
    }
   ],
   "source": [
    "def prec(e):\n",
    "    if e==\"^\":\n",
    "        return 3\n",
    "    elif e == \"*\" or e==\"/\":\n",
    "        return 2\n",
    "    elif e==\"+\" or e==\"-\":\n",
    "        return 1\n",
    "        \n",
    "\n",
    "\n",
    "exp=input()\n",
    "s=[]\n",
    "result=\"\"\n",
    "for e in exp:\n",
    "    if e.isalnum():\n",
    "        result +=e\n",
    "    elif e =='(':\n",
    "        s.append(e)\n",
    "    elif e ==')':\n",
    "        while s or s[-1] != '(':\n",
    "            result += s.pop()\n",
    "        s.pop()\n",
    "    else:\n",
    "        while s and (prec(e)<prec(s[-1])or\n",
    "                    (prec(e)==prec(s[-1])and asoc(e)=='L')):\n",
    "            result +=s.pop()\n",
    "        s.append(e)\n",
    "\n",
    "while s:\n",
    "    result +=s.pop()\n",
    "                    \n",
    "print(result)        \n",
    "    \n",
    "    \n"
   ]
  },
  {
   "cell_type": "markdown",
   "id": "dbd4cd94-e457-4672-8778-bc64c90b45a7",
   "metadata": {},
   "source": [
    "In a arcade game , there is a king who is a king who got spelled by a witch that whenever he eat he have to take care of what is sequence of his food intake.\n",
    "if he eats similar food one after other it will cancel out its effect and total energy was decreased.\n",
    "your task is to determine the total energy of the king after his meal\n",
    "\n",
    "example:\n",
    "[\"apple\",\"dal\",\"chapati\",\"rice\",\"rice\",\"apple\",\"apple\",\"dal\",\"rice\",\"dal\",\"chapati\",\"chapati\"]\n",
    "\n",
    "consider that energy released by each item will be same which is 1 unit\n",
    "\n",
    "so the total energy intake is 6 unit as per above example.\n",
    "[\"apple\",\"dal\",\"chapati\",\"dal\",\"rice\",\"dal\"]\n",
    "\n",
    "write a code to find the energy stored by the king after have all the food.\n",
    "\n",
    "\n"
   ]
  },
  {
   "cell_type": "code",
   "execution_count": 14,
   "id": "db6c08d3-2cb9-4ed1-bc14-a3e6617ff806",
   "metadata": {},
   "outputs": [
    {
     "name": "stdin",
     "output_type": "stream",
     "text": [
      " A D C R R A A D R D C C \n"
     ]
    },
    {
     "name": "stdout",
     "output_type": "stream",
     "text": [
      "['A', 'D', 'C', 'R', 'R', 'A', 'A', 'D', 'R', 'D', 'C', 'C']\n",
      "6 ['A', 'D', 'C', 'D', 'R', 'D']\n"
     ]
    }
   ],
   "source": [
    "a = [item for item in input().split()]\n",
    "print(a)\n",
    "s=[]\n",
    "for item in a:\n",
    "    if not s:\n",
    "        s.append(item)\n",
    "    elif s[-1] == item:\n",
    "        s.pop()\n",
    "    else:\n",
    "        s.append(item)\n",
    "\n",
    "print(len(s),s)\n",
    "    "
   ]
  },
  {
   "cell_type": "code",
   "execution_count": 6,
   "id": "f189f782-0926-4675-8a1b-4a8fe4245b6e",
   "metadata": {},
   "outputs": [
    {
     "name": "stdout",
     "output_type": "stream",
     "text": [
      "[{'this is a string'}]\n",
      "string is valid\n"
     ]
    }
   ],
   "source": [
    "#balanced brackets\n",
    "\n",
    "a=[{(\"this is a string\")}]\n",
    "print(a)\n",
    "if  a==[{(\"this is a string\")}]:\n",
    "    print(\"string is valid\")\n",
    "else:\n",
    "    print(\"string is invalid\")\n",
    "    \n"
   ]
  },
  {
   "cell_type": "code",
   "execution_count": 7,
   "id": "7af1dc74-8930-4fd5-853b-4ae41244080a",
   "metadata": {},
   "outputs": [
    {
     "name": "stdout",
     "output_type": "stream",
     "text": [
      "Balanced\n"
     ]
    }
   ],
   "source": [
    "def areBracketsBalanced(expr):\n",
    "    stack = []\n",
    "    for char in expr:\n",
    "        if char in [\"(\"]:\n",
    "            stack.append(char)\n",
    "        else:\n",
    "            if not stack:\n",
    "                return False\n",
    "            current_char = stack.pop()\n",
    "            if current_char == '(':\n",
    "                if char != \")\":\n",
    "                    return False\n",
    "            \n",
    "    if stack:\n",
    "        return False\n",
    "    return True\n",
    "\n",
    "# Example usage\n",
    "expr = \"{()}[]\"\n",
    "if areBracketsBalanced(expr):\n",
    "    print(\"Balanced\")\n",
    "else:\n",
    "    print(\"Not Balanced\")\n"
   ]
  },
  {
   "cell_type": "code",
   "execution_count": 21,
   "id": "ee8fb73d-482d-4a4c-a50e-eb55b15270f1",
   "metadata": {},
   "outputs": [
    {
     "name": "stdin",
     "output_type": "stream",
     "text": [
      " {){}\n"
     ]
    },
    {
     "name": "stdout",
     "output_type": "stream",
     "text": [
      "valid\n"
     ]
    }
   ],
   "source": [
    "s=input()\n",
    "s=[]\n",
    "for e in s:\n",
    "    print(s)\n",
    "    if e =='(' or e ==\"{\" or e ==\"[\":\n",
    "        s.append(e)\n",
    "    elif (e == ')' and s[-1] =='(') or (e =='}'and s[-1]=='{') or (e == ']' and s[-1]=='['):\n",
    "        s.pop()\n",
    "    else:\n",
    "        continue\n",
    "\n",
    "if not s:\n",
    "    print(\"valid\")\n",
    "else:\n",
    "    print(\"invalid\")\n",
    "    \n"
   ]
  },
  {
   "cell_type": "code",
   "execution_count": 13,
   "id": "7f0b68f8-e470-4d84-bc76-8bf4a47034d0",
   "metadata": {},
   "outputs": [
    {
     "name": "stdin",
     "output_type": "stream",
     "text": [
      " ({])\n"
     ]
    },
    {
     "name": "stdout",
     "output_type": "stream",
     "text": [
      "invalid\n"
     ]
    }
   ],
   "source": [
    "s=input()\n",
    "stack=[]\n",
    "for e in s:\n",
    "    \n",
    "    if e =='(' or e == \"{\" or e ==\"[\":\n",
    "        stack.append(e)\n",
    "    elif (e == ')' and stack and s[-1] =='(') or  (e =='}'and stack and s[-1] =='{') or  (e == ']'and stack and s[-1] =='['):\n",
    "         s.pop()\n",
    "    else:\n",
    "        stack.append(e)\n",
    "\n",
    "if not s:\n",
    "    print(\"valid\")\n",
    "else:\n",
    "    print(\"invalid\")\n",
    "    \n"
   ]
  },
  {
   "cell_type": "code",
   "execution_count": null,
   "id": "1c5c0d7c-fd71-44cc-b091-8eecd4ead95b",
   "metadata": {},
   "outputs": [],
   "source": []
  },
  {
   "cell_type": "code",
   "execution_count": null,
   "id": "380d2546-d6e4-4877-9a5c-5c7db41ab795",
   "metadata": {},
   "outputs": [],
   "source": []
  },
  {
   "cell_type": "code",
   "execution_count": null,
   "id": "b6d84285-8041-48fb-a40f-f9de66e830c9",
   "metadata": {},
   "outputs": [],
   "source": []
  }
 ],
 "metadata": {
  "kernelspec": {
   "display_name": "Python 3 (ipykernel)",
   "language": "python",
   "name": "python3"
  },
  "language_info": {
   "codemirror_mode": {
    "name": "ipython",
    "version": 3
   },
   "file_extension": ".py",
   "mimetype": "text/x-python",
   "name": "python",
   "nbconvert_exporter": "python",
   "pygments_lexer": "ipython3",
   "version": "3.12.3"
  }
 },
 "nbformat": 4,
 "nbformat_minor": 5
}

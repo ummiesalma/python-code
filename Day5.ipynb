{
 "cells": [
  {
   "cell_type": "code",
   "execution_count": 1,
   "id": "4808d9a9-902c-421f-bf72-0cb4a474b6da",
   "metadata": {},
   "outputs": [
    {
     "name": "stdout",
     "output_type": "stream",
     "text": [
      "<class 'int'>\n"
     ]
    }
   ],
   "source": [
    "#oops concept\n",
    "\n",
    "a=5\n",
    "print(type(a))\n"
   ]
  },
  {
   "cell_type": "code",
   "execution_count": 10,
   "id": "14d83dc7-0142-4910-ac50-4e5fcf34d008",
   "metadata": {},
   "outputs": [
    {
     "name": "stdout",
     "output_type": "stream",
     "text": [
      "This laptop have i5 8gb RAM 1TB SSD\n"
     ]
    }
   ],
   "source": [
    "class laptop:\n",
    "    def config(self):\n",
    "        print(\"This laptop have i5 8gb RAM 1TB SSD\")\n",
    "\n",
    "hp = laptop()\n",
    "hp.config()\n",
    "\n"
   ]
  },
  {
   "cell_type": "code",
   "execution_count": 11,
   "id": "eb7f2e2d-28af-4f0e-b36e-c74d48b1617e",
   "metadata": {},
   "outputs": [
    {
     "name": "stdout",
     "output_type": "stream",
     "text": [
      "This laptop have i5 8gb RAM 1TB SSD\n",
      "0\n",
      "1\n",
      "0\n"
     ]
    }
   ],
   "source": [
    "#variable class\n",
    "class laptop:\n",
    "    a=0\n",
    "    def config(self):\n",
    "        print(\"This laptop have i5 8gb RAM 1TB SSD\")\n",
    "\n",
    "hp = laptop()\n",
    "dell = laptop()\n",
    "lenovo = laptop()\n",
    "\n",
    "hp.config()\n",
    "print(hp.a)\n",
    "hp.a=hp.a+1\n",
    "print(hp.a)\n",
    "print(dell.a)"
   ]
  },
  {
   "cell_type": "code",
   "execution_count": 17,
   "id": "1ac6433c-a59d-4a73-bf4a-90fe9002a367",
   "metadata": {},
   "outputs": [
    {
     "name": "stdout",
     "output_type": "stream",
     "text": [
      "This is fun1\n",
      "This is fun2\n",
      "This is fun3\n",
      "This is fun4\n",
      "This is fun5\n",
      "This is fun6\n"
     ]
    }
   ],
   "source": [
    "class a:\n",
    "    def fun1(self):\n",
    "        print(\"This is fun1\")\n",
    "    def fun2(self):\n",
    "        print(\"This is fun2\")\n",
    "class b:\n",
    "    def fun3(self):\n",
    "        print(\"This is fun3\")\n",
    "    def fun4(self):\n",
    "        print(\"This is fun4\")\n",
    "class c(b):\n",
    "    def fun5(self):\n",
    "        print(\"This is fun5\")\n",
    "    def fun6(self):\n",
    "        print(\"This is fun6\")\n",
    "\n",
    "if __name__==\"__main__\":\n",
    "    ob1=a()\n",
    "    ob2=b()\n",
    "    ob3=c()\n",
    "\n",
    "ob1.fun1()\n",
    "ob1.fun2()\n",
    "ob2.fun3()\n",
    "ob2.fun4()\n",
    "ob3.fun5()\n",
    "ob3.fun6()"
   ]
  },
  {
   "cell_type": "code",
   "execution_count": 12,
   "id": "79f6f6cb-00dd-4673-b649-d777f4af9df7",
   "metadata": {},
   "outputs": [
    {
     "name": "stdout",
     "output_type": "stream",
     "text": [
      "0\n",
      "20\n"
     ]
    }
   ],
   "source": [
    "#constructor instance class\n",
    "class laptop:\n",
    "    a=0\n",
    "    def config(self):\n",
    "        print(\"This laptop have i5 8gb RAM 1TB SSD\")\n",
    "\n",
    "    def __init__(self,value):\n",
    "        self.b=value\n",
    "\n",
    "Acer = laptop(20)\n",
    "\n",
    "print(Acer.a)\n",
    "print(Acer.b)"
   ]
  },
  {
   "cell_type": "markdown",
   "id": "5194fbd9-5e81-44b9-8e0a-ddc363d4f6fc",
   "metadata": {},
   "source": [
    "create a laptop class with variable as processor,RAM and storage\n",
    "\n",
    "create function to print the configuration of the laptops\n",
    "\n",
    "create 3 object of laptop with different brand and display its configuration"
   ]
  },
  {
   "cell_type": "code",
   "execution_count": null,
   "id": "a18a87dd-a110-4c98-aee5-471a41af9e78",
   "metadata": {},
   "outputs": [],
   "source": []
  },
  {
   "cell_type": "code",
   "execution_count": 18,
   "id": "d96317bb-7b25-4fa1-a555-5ea0e7aa564e",
   "metadata": {},
   "outputs": [
    {
     "name": "stdout",
     "output_type": "stream",
     "text": [
      "configuration of the laptops is:\n",
      "processor i5\n",
      "ram 8\n",
      "storage 512\n"
     ]
    }
   ],
   "source": [
    "class laptop:\n",
    "    \n",
    "    def __init__(self,p,r,s):\n",
    "        self.processor=p\n",
    "        self.ram=r\n",
    "        self.storage=s\n",
    "    def config(self):\n",
    "        print(\"configuration of the laptops is:\")\n",
    "        print(\"processor\",self.processor)\n",
    "        print(\"ram\",self.ram)\n",
    "        print(\"storage\",self.storage)\n",
    "        \n",
    "\n",
    "if __name__==\"__main__\":\n",
    "    hp = laptop(\"i5\",8,512)\n",
    "    hp.config()\n",
    "   \n"
   ]
  },
  {
   "cell_type": "markdown",
   "id": "054497ff-b19c-469b-8fca-014d54191619",
   "metadata": {},
   "source": [
    "create a class student which can hold the marks in 5 subjects and also create a functions to print the marks and calculate the avg if 5 subjects"
   ]
  },
  {
   "cell_type": "code",
   "execution_count": 10,
   "id": "03210c8f-1db2-4cd3-85ff-e51deede0505",
   "metadata": {},
   "outputs": [
    {
     "name": "stdout",
     "output_type": "stream",
     "text": [
      "The students marks is :\n",
      "dsa 80\n",
      "java 70\n",
      "dco 60\n",
      "rprogramming 90\n",
      "os 85\n"
     ]
    }
   ],
   "source": [
    "#create a class student in which can hold the marks in 5 subjects and also create a function to print the marks and calculate the avg of 5 subjects\n",
    "class student:\n",
    " \n",
    "    def __init__(self,d,j,c,r,o):\n",
    "        self.dsa=d\n",
    "        self.java=j\n",
    "        self.dco=c\n",
    "        self.rprogramming=r\n",
    "        self.os=o\n",
    "\n",
    "    def config(self):\n",
    "        print(\"The students marks is :\")\n",
    "        print(\"dsa\",self.dsa)\n",
    "        print(\"java\",self.java)\n",
    "        print(\"dco\",self.dco)\n",
    "        print(\"rprogramming\",self.rprogramming)\n",
    "        print(\"os\",self.os)\n",
    "\n",
    "if __name__==\"__main__\":\n",
    "    a=student(80,70,60,90,85)\n",
    "    a.config()"
   ]
  },
  {
   "cell_type": "markdown",
   "id": "b2b9ab92-6086-401e-ad1b-a0692470a4dd",
   "metadata": {},
   "source": [
    "#Access modifiers\n",
    "1 public\n",
    "2 protected\n",
    "3 private\n"
   ]
  },
  {
   "cell_type": "code",
   "execution_count": null,
   "id": "93b94e8a-4cb5-470e-ad1f-87fce9a6d851",
   "metadata": {},
   "outputs": [],
   "source": [
    "class demo:\n",
    "    def __init__(self,a,b,c):\n",
    "        self.x=a\n",
    "        self._y=b\n",
    "        self.__z=c\n",
    "    def output_z(self):\n",
    "        print(self.__z)\n",
    "    def output_x(self):\n",
    "        print(self.x)\n",
    "    def output_y(self):\n",
    "        print(self.x)\n",
    "\n",
    "ob1 = demo(1,2,3)\n",
    "ob1.output_x()\n",
    "ob1.output_y()\n",
    "ob1.output_z()\n",
    "\n",
    "\n"
   ]
  },
  {
   "cell_type": "code",
   "execution_count": 1,
   "id": "bbd61d5f-6f9b-4855-b378-7c725ea55bd2",
   "metadata": {},
   "outputs": [
    {
     "name": "stdout",
     "output_type": "stream",
     "text": [
      "constructor of class b\n"
     ]
    }
   ],
   "source": [
    "class a:\n",
    "    def __init__(self):\n",
    "        print(\"constructor of class a\")\n",
    "class b:\n",
    "    def __init__(self):\n",
    "        print(\"constructor of class b\")\n",
    "class c:\n",
    "    def __init__(self):\n",
    "        print(\"constructor of class c\")\n",
    "class d:\n",
    "    def __init__(self):\n",
    "        print(\"constructor of class d\")\n",
    "\n",
    "if __name__==\"__main__\":\n",
    "    ob1=b()\n",
    "\n",
    "\n",
    "    \n",
    "    \n",
    "        \n",
    "        "
   ]
  },
  {
   "cell_type": "code",
   "execution_count": 7,
   "id": "b1df496c-8374-4210-af46-daeaf491af1d",
   "metadata": {},
   "outputs": [
    {
     "name": "stdout",
     "output_type": "stream",
     "text": [
      "constructor of class c\n",
      "fun of class c with 1 5\n",
      "fun of class c with 1 2\n"
     ]
    }
   ],
   "source": [
    "# default parameter\n",
    "class c:\n",
    "    def __init__(self):\n",
    "        print(\"constructor of class c\")\n",
    "    \n",
    "    def abc(self,a,b=5):\n",
    "        print(\"fun of class c with\",a,b)\n",
    "\n",
    "ob=c()\n",
    "ob.abc(1)\n",
    "ob.abc(1,2)\n"
   ]
  },
  {
   "cell_type": "code",
   "execution_count": 11,
   "id": "2944c324-66ef-4f93-87c6-1274d5de7746",
   "metadata": {},
   "outputs": [
    {
     "name": "stdout",
     "output_type": "stream",
     "text": [
      "constructor of class c\n",
      "fun of class c with 1 2\n"
     ]
    }
   ],
   "source": [
    "class c:\n",
    "    def __init__(self):\n",
    "        print(\"constructor of class c\")\n",
    "    \n",
    "    def abc(self,a,b):\n",
    "        print(\"fun of class c with\",a,b)\n",
    "\n",
    "ob=c()\n",
    "\n",
    "ob.abc(1,2)"
   ]
  },
  {
   "cell_type": "code",
   "execution_count": 15,
   "id": "2179405f-1941-4648-aa6a-7812ef7be0d6",
   "metadata": {},
   "outputs": [
    {
     "name": "stdout",
     "output_type": "stream",
     "text": [
      "fun of class c with 1 2\n"
     ]
    }
   ],
   "source": [
    "class c:\n",
    "    def __init__(self,a,b):\n",
    "        print(\"constructor of class c\")\n",
    "        self.x=a\n",
    "        self.y=b\n",
    "        print(self.x,self.y)\n",
    "\n",
    "\n",
    "ob.abc(1,2)"
   ]
  },
  {
   "cell_type": "code",
   "execution_count": 30,
   "id": "13beaef6-fee2-44a7-8903-2d75782b63b6",
   "metadata": {},
   "outputs": [
    {
     "name": "stdout",
     "output_type": "stream",
     "text": [
      "professional laptop having 8 512 6 i5\n",
      "gaming laptop having 9 535 2 i7\n"
     ]
    }
   ],
   "source": [
    "class laptop:\n",
    "    def __init__(self,p,r,s):\n",
    "        self.processor=p\n",
    "        self.ram=r\n",
    "        self.storage=s\n",
    "\n",
    "class prof_laptop(laptop):\n",
    "    def __init__(self,bat,p,r,s):\n",
    "        self.battery=bat\n",
    "        super().__init__(p,r,s)\n",
    "        \n",
    "class gaming(laptop):\n",
    "    def __init__(self,graph,p,r,s):\n",
    "        self.graph=graph\n",
    "        super().__init__(p,r,s)\n",
    "\n",
    "pro1=prof_laptop(\"i5\",8,512,6)\n",
    "gam1=gaming(\"i7\",9,535,2)\n",
    "\n",
    "print(\"professional laptop having\",\n",
    "      pro1.processor,pro1.ram,\n",
    "      pro1.storage,pro1.battery)\n",
    "print(\"gaming laptop having\",\n",
    "      gam1.processor,gam1.ram,\n",
    "      gam1.storage,gam1.graph)"
   ]
  },
  {
   "cell_type": "code",
   "execution_count": 19,
   "id": "68247d87-7b1f-4a85-8eb0-c770ed3c6093",
   "metadata": {},
   "outputs": [
    {
     "name": "stdout",
     "output_type": "stream",
     "text": [
      "Ticket booked Fare Price will be:  4050\n"
     ]
    }
   ],
   "source": [
    "class ticket:\n",
    "   \n",
    "    def __init__(self,D):\n",
    "        self.distance = int(D)\n",
    "        self.farePrice = None\n",
    "\n",
    "class gen(ticket):\n",
    "    def __init__(self,D):\n",
    "        super().__init__(D)\n",
    "    def print_ticket(self):\n",
    "        self.farePrice=50+(self.distance*2)\n",
    "        return self.farePrice\n",
    "        \n",
    "class slp(gen):\n",
    "    def __init__(self,D):\n",
    "        super().__init__(D)\n",
    "\n",
    "    def print_ticket(self):\n",
    "        self.farePrice=super().print_ticket()+(2*self.distance)\n",
    "        return self.farePrice\n",
    "\n",
    "class AC(slp):\n",
    "    def __init__(self,D):\n",
    "        super().__init__(D)\n",
    "    def print_ticket(self):\n",
    "        self.farePrice=super().print_ticket()+(4*self.distance)\n",
    "        return self.farePrice\n",
    "\n",
    "class FC(AC):\n",
    "    def __init__(self,D):\n",
    "        super().__init__(D)\n",
    "    def print_ticket(self):\n",
    "        self.farePrice=super().print_ticket()+(5*self.distance)\n",
    "        return self.farePrice\n",
    "\n",
    "\n",
    "jur = AC(500)\n",
    "print(\"Ticket booked Fare Price will be: \",jur.print_ticket())"
   ]
  },
  {
   "cell_type": "code",
   "execution_count": null,
   "id": "8a239949-7a14-4c8b-b078-3f0b8c1eb14c",
   "metadata": {},
   "outputs": [],
   "source": []
  },
  {
   "cell_type": "code",
   "execution_count": null,
   "id": "f1aded54-baf4-476e-ac18-3bfb6c7a61ed",
   "metadata": {},
   "outputs": [],
   "source": []
  }
 ],
 "metadata": {
  "kernelspec": {
   "display_name": "Python 3 (ipykernel)",
   "language": "python",
   "name": "python3"
  },
  "language_info": {
   "codemirror_mode": {
    "name": "ipython",
    "version": 3
   },
   "file_extension": ".py",
   "mimetype": "text/x-python",
   "name": "python",
   "nbconvert_exporter": "python",
   "pygments_lexer": "ipython3",
   "version": "3.12.3"
  }
 },
 "nbformat": 4,
 "nbformat_minor": 5
}

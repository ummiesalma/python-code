{
 "cells": [
  {
   "cell_type": "code",
   "execution_count": 12,
   "id": "c58b2a46-d379-4738-b8e8-43edcfd5d3f9",
   "metadata": {},
   "outputs": [
    {
     "name": "stdout",
     "output_type": "stream",
     "text": [
      "19\n"
     ]
    }
   ],
   "source": [
    "L=[2,4,6,1,3,7,4,6,9,3,6,8,3,6,4,1,3,9,6,4,5,6,8,3,7,3,6,8]\n",
    "\n",
    "#Find the maximum sum of any 3 consecutive elements of this array.\n",
    "\n",
    "max=0\n",
    "for x in range(0,len(L)-2):\n",
    "    sum = L[x]+L[x+1]+L[x+2]\n",
    "    if(max<sum):\n",
    "        max=sum\n",
    "\n",
    "print(max)\n",
    "    \n",
    "\n",
    "    \n",
    "\n",
    "\n",
    "    \n",
    "    \n"
   ]
  },
  {
   "cell_type": "code",
   "execution_count": 26,
   "id": "dc91b731-6c7d-4369-9c39-31682507e46d",
   "metadata": {},
   "outputs": [
    {
     "name": "stdout",
     "output_type": "stream",
     "text": [
      "71\n"
     ]
    }
   ],
   "source": [
    " L=[2,4,6,1,3,7,4,6,9,3,6,8,3,6,4,1,3,9,6,4,5,6,8,3,7,3,6,8,\n",
    "   2,4,6,1,3,7,4,6,9,3,6,8,3,6,4,1,3,9,6,4,5,6,8,3,7,3,6,8,\n",
    "   9,3,6,8,3,6,4,1,3,9,6,4,5,6,8,3,7,3,6,8,2,4,6,1,3,7,4,6,\n",
    "    9,3,6,8,3,6,4,1,8,6,5,8,4,3,9,7,6,3,9,7,6,5,4,9,7,5,4,]\n",
    "\n",
    "\n",
    "max = 0\n",
    "\n",
    "for n in range(0,len(L)-9):\n",
    "            sum = L[n]+L[n+1]+L[n+2]+L[n+3]+L[n+4]+L[n+5]+L[n+6]+L[n+7]+L[n+7]+L[n+8]+L[n+9]\n",
    "            if(max<sum):\n",
    "                max=sum\n",
    "\n",
    "print(max)\n",
    "\n",
    "    "
   ]
  },
  {
   "cell_type": "code",
   "execution_count": 40,
   "id": "c3b69cfa-ed49-48b6-9b9b-24b8b3e2358d",
   "metadata": {},
   "outputs": [
    {
     "name": "stdin",
     "output_type": "stream",
     "text": [
      "enter consecutive number: 3\n"
     ]
    },
    {
     "name": "stdout",
     "output_type": "stream",
     "text": [
      "23\n"
     ]
    }
   ],
   "source": [
    "#how to solve time complecity in single linear\n",
    "\n",
    "L=[2,4,6,1,3,7,4,6,9,3,6,8,3,6,4,1,3,9,6,4,5,6,8,3,7,3,6,8,\n",
    "   2,4,6,1,3,7,4,6,9,3,6,8,3,6,4,1,3,9,6,4,5,6,8,3,7,3,6,8,\n",
    "   9,3,6,8,3,6,4,1,3,9,6,4,5,6,8,3,7,3,6,8,2,4,6,1,3,7,4,6,\n",
    "    9,3,6,8,3,6,4,1,8,6,5,8,4,3,9,7,6,3,9,7,6,5,4,9,7,5,4]\n",
    "\n",
    "\n",
    "max = 0\n",
    "con=int(input(\"enter consecutive number:\"))\n",
    "for x in range(0,len(L)-con):\n",
    "    s=0\n",
    "    for j in range(0,con):\n",
    "        s=s+L[x+j]\n",
    "    if(max<s):\n",
    "        max=s\n",
    "\n",
    "print(max)\n"
   ]
  },
  {
   "cell_type": "code",
   "execution_count": 4,
   "id": "4b70ac83-e43d-482b-80d6-e9c1d6a82a88",
   "metadata": {},
   "outputs": [
    {
     "name": "stdin",
     "output_type": "stream",
     "text": [
      "enter consecutive number: 3\n"
     ]
    },
    {
     "name": "stdout",
     "output_type": "stream",
     "text": [
      "0\n"
     ]
    }
   ],
   "source": [
    "#how to solve time complecity in single loop\n",
    "\n",
    "L=[2,4,6,1,3,7,4,6,9,3,6,8,3,6,4,1,3,9,6,4,5,6,8,3,7,3,6,8,\n",
    "   2,4,6,1,3,7,4,6,9,3,6,8,3,6,4,1,3,9,6,4,5,6,8,3,7,3,6,8,\n",
    "   9,3,6,8,3,6,4,1,3,9,6,4,5,6,8,3,7,3,6,8,2,4,6,1,3,7,4,6,\n",
    "    9,3,6,8,3,6,4,1,8,6,5,8,4,3,9,7,6,3,9,7,6,5,4,9,7,5,4]\n",
    "\n",
    "\n",
    "max = 0\n",
    "con=int(input(\"enter consecutive number:\"))\n",
    "for x in range(0,len(L)-con):\n",
    "    s=0\n",
    "    if(max<s):\n",
    "        max=s\n",
    "\n",
    "print(max)\n",
    "\n"
   ]
  },
  {
   "cell_type": "code",
   "execution_count": 1,
   "id": "483edc9a-9dd4-4b54-a532-f6ea742500b6",
   "metadata": {},
   "outputs": [
    {
     "name": "stdout",
     "output_type": "stream",
     "text": [
      "[4, 5, 7, 8, 9]\n"
     ]
    }
   ],
   "source": [
    "#Bubble sort\n",
    "The Bubble Sort algorithm repeatedly compares adjacent elements and swaps them if they are in the wrong order.\n",
    "It iterates through the array multiple times, pushing the largest unsorted element to its correct position at the end. \n",
    "The time complexity of Bubble Sort is O(n2), and it uses auxiliary space of O(1).\n",
    "\n",
    "\n",
    "\n",
    "\n",
    "a=[4,7,9,8,5]\n",
    "for j in range(len(a)):\n",
    "    \n",
    "    swapped = False\n",
    "    i = 0\n",
    "    while i<len(a)-1:\n",
    "        \n",
    "        if a[i]>a[i+1]:\n",
    "            \n",
    "            a[i],a[i+1] = a[i+1],a[i]\n",
    "            \n",
    "            swapped = True\n",
    "        i = i+1\n",
    "    if swapped == False:\n",
    "        break\n",
    "print (a)\n"
   ]
  },
  {
   "cell_type": "code",
   "execution_count": 15,
   "id": "1b80ab06-7590-453a-ac59-c601ca52cfbc",
   "metadata": {},
   "outputs": [
    {
     "name": "stdout",
     "output_type": "stream",
     "text": [
      "[2, 4, 4, 5, 5, 8, 9]\n"
     ]
    }
   ],
   "source": [
    "my_list=[2,4,5,8,9,4,5]\n",
    "my_list.sort()\n",
    "print(my_list)"
   ]
  },
  {
   "cell_type": "code",
   "execution_count": 2,
   "id": "9c48fc23-95e6-4444-95d4-15773edfc119",
   "metadata": {},
   "outputs": [
    {
     "name": "stdout",
     "output_type": "stream",
     "text": [
      "[10, 11, 12, 14, 15, 16, 19]\n"
     ]
    }
   ],
   "source": [
    "#Insertion sort.\n",
    "\n",
    "The insertion sort algorithm. For the initial array [12, 11, 13, 5, 6], the sorted array should be [5, 6, 11, 12, 13].\n",
    "The code prints the sorted array as the final output1.\n",
    "\n",
    "    \n",
    "a = [16, 19, 11, 15, 10, 12, 14]\n",
    "\n",
    "#iterating over a\n",
    "for i in a:\n",
    "    j = a.index(i)\n",
    "    #i is not the first element\n",
    "    while j>0:\n",
    "        #not in order\n",
    "        if a[j-1] > a[j]:\n",
    "            #swap\n",
    "            a[j-1],a[j] = a[j],a[j-1]\n",
    "        else:\n",
    "            #in order\n",
    "            break\n",
    "        j = j-1\n",
    "print (a)\n",
    "\n"
   ]
  },
  {
   "cell_type": "code",
   "execution_count": 3,
   "id": "0192bee5-5ce1-4e4b-a7ad-0a117c145b57",
   "metadata": {},
   "outputs": [
    {
     "name": "stdin",
     "output_type": "stream",
     "text": [
      "Enter the list of numbers:  1 2 3 8 5 9 78 54 6\n"
     ]
    },
    {
     "name": "stdout",
     "output_type": "stream",
     "text": [
      "List after sorting is : [1, 2, 3, 5, 6, 8, 9, 54, 78]\n"
     ]
    }
   ],
   "source": [
    "#selection sort.\n",
    "The selection sort algorithm is a simple sorting technique that repeatedly selects the smallest element from an unsorted list and\n",
    "places it at the beginning. \n",
    "\n",
    "\n",
    "\n",
    "def Selection_Sort(array):\n",
    "    for i in range(0, len(array) - 1):\n",
    "        smallest = i\n",
    "        for j in range(i + 1, len(array)):\n",
    "            if array[j] < array[smallest]:\n",
    "                smallest = j\n",
    "        array[i], array[smallest] = array[smallest], array[i]\n",
    "\n",
    "array = input('Enter the list of numbers: ').split()\n",
    "array = [int(x) for x in array]\n",
    "Selection_Sort(array)\n",
    "print('List after sorting is : ', end='')\n",
    "print(array)"
   ]
  },
  {
   "cell_type": "code",
   "execution_count": null,
   "id": "29c3a52f-9a6d-48b2-a077-f0c97ccc9c8a",
   "metadata": {},
   "outputs": [],
   "source": []
  },
  {
   "cell_type": "code",
   "execution_count": null,
   "id": "2caad313-557f-4c4e-9f75-f7528745f1ae",
   "metadata": {},
   "outputs": [],
   "source": []
  }
 ],
 "metadata": {
  "kernelspec": {
   "display_name": "Python 3 (ipykernel)",
   "language": "python",
   "name": "python3"
  },
  "language_info": {
   "codemirror_mode": {
    "name": "ipython",
    "version": 3
   },
   "file_extension": ".py",
   "mimetype": "text/x-python",
   "name": "python",
   "nbconvert_exporter": "python",
   "pygments_lexer": "ipython3",
   "version": "3.12.3"
  }
 },
 "nbformat": 4,
 "nbformat_minor": 5
}

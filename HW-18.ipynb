{
 "cells": [
  {
   "cell_type": "code",
   "execution_count": 17,
   "id": "7317c14c-5408-46c9-8425-792f07d40c6f",
   "metadata": {},
   "outputs": [
    {
     "name": "stdin",
     "output_type": "stream",
     "text": [
      "Enter the temperature in celsius :  40\n"
     ]
    },
    {
     "name": "stdout",
     "output_type": "stream",
     "text": [
      " 40.000000 c = 104.00 \n"
     ]
    }
   ],
   "source": [
    "#Convert a temperature from Celsius to Fahrenheit.\n",
    "\n",
    "celsius = float(input(\"Enter the temperature in celsius : \"))\n",
    "fahrenheit = (celsius * 1.8)+ 32\n",
    "print(\" %2f c = %.2f \" %(celsius,fahrenheit))"
   ]
  },
  {
   "cell_type": "code",
   "execution_count": 5,
   "id": "a2c20ed1-0c08-408f-9853-9e4b51d1c81e",
   "metadata": {},
   "outputs": [
    {
     "name": "stdout",
     "output_type": "stream",
     "text": [
      "[3, 4, 4, 7, 8, 8]\n",
      "second largest element is : 8\n"
     ]
    }
   ],
   "source": [
    "#Find the second largest element in a list.\n",
    "\n",
    "list =[3,8,7,4,8,4]\n",
    "\n",
    "list.sort()\n",
    "print(list)\n",
    "element = list[-2]\n",
    "\n",
    "print(\"second largest element is :\",element)"
   ]
  },
  {
   "cell_type": "code",
   "execution_count": 6,
   "id": "c83a43a3-872d-46a6-b563-84f59d0be093",
   "metadata": {},
   "outputs": [
    {
     "name": "stdout",
     "output_type": "stream",
     "text": [
      "3\n"
     ]
    }
   ],
   "source": [
    "#Count the occurrences of each element in a list.\n",
    "\n",
    "numbers = [10,30,20,50,10,20,10,20]\n",
    "\n",
    "count_occurence = numbers.count(20)\n",
    "print(count_occurence)\n"
   ]
  },
  {
   "cell_type": "code",
   "execution_count": 7,
   "id": "ad72b86c-bbe2-45c9-bd78-dbb3f0239e23",
   "metadata": {},
   "outputs": [
    {
     "name": "stdout",
     "output_type": "stream",
     "text": [
      "12\n",
      "14\n",
      "16\n",
      "18\n",
      "20\n"
     ]
    }
   ],
   "source": [
    "#Find the sum of all even numbers in a list.\n",
    "\n",
    "list = [11,12,13,14,15,16,17,18,19,20]\n",
    "\n",
    "for number in list:\n",
    "    if (number % 2 == 0):\n",
    "        print(number)"
   ]
  },
  {
   "cell_type": "code",
   "execution_count": 16,
   "id": "088c1d39-055c-4000-96c3-cbbadedb484b",
   "metadata": {},
   "outputs": [
    {
     "name": "stdin",
     "output_type": "stream",
     "text": [
      "text: ummiesalma\n"
     ]
    },
    {
     "name": "stdout",
     "output_type": "stream",
     "text": [
      "count: 5\n"
     ]
    }
   ],
   "source": [
    "#Count the number of vowels in a string.\n",
    "\n",
    "text = input(\"text:\")\n",
    "\n",
    "count=0\n",
    "\n",
    "for character in text:\n",
    "    if(character in \"aAeEiIoOuU\"):\n",
    "        count += 1\n",
    "\n",
    "print(\"count:\",count)"
   ]
  },
  {
   "cell_type": "code",
   "execution_count": 10,
   "id": "18e485d5-b3e8-461a-b564-6e2e5703a216",
   "metadata": {},
   "outputs": [
    {
     "name": "stdin",
     "output_type": "stream",
     "text": [
      "Enter the sentence: myself salma\n"
     ]
    },
    {
     "name": "stdout",
     "output_type": "stream",
     "text": [
      "['salma', 'myself']\n"
     ]
    }
   ],
   "source": [
    "#Reverse the words in a given sentence.\n",
    "\n",
    "str = input(\"Enter the sentence:\")\n",
    "words = str.split()\n",
    "words = words[-1::-1]\n",
    "print(words)\n"
   ]
  },
  {
   "cell_type": "code",
   "execution_count": null,
   "id": "2e37c452-e591-4a2b-9701-e280bdb48b44",
   "metadata": {},
   "outputs": [],
   "source": []
  }
 ],
 "metadata": {
  "kernelspec": {
   "display_name": "Python 3 (ipykernel)",
   "language": "python",
   "name": "python3"
  },
  "language_info": {
   "codemirror_mode": {
    "name": "ipython",
    "version": 3
   },
   "file_extension": ".py",
   "mimetype": "text/x-python",
   "name": "python",
   "nbconvert_exporter": "python",
   "pygments_lexer": "ipython3",
   "version": "3.12.3"
  }
 },
 "nbformat": 4,
 "nbformat_minor": 5
}
